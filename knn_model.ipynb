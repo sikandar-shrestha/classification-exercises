{
 "cells": [
  {
   "cell_type": "markdown",
   "id": "10f4233b",
   "metadata": {},
   "source": [
    "Exercises\n",
    "\n",
    "### Create a new notebook, knn_model, and work with the titanic dataset to answer the following:\n",
    "\n",
    "1.Fit a K-Nearest Neighbors classifier to your training sample and transform (i.e. make predictions on the training sample)\n",
    "\n",
    "2.Evaluate your results using the model score, confusion matrix, and classification report.\n",
    "\n",
    "3.Print and clearly label the following: Accuracy, true positive rate, false positive rate, true negative rate, false negative rate, precision, recall, f1-score, and support.\n",
    "\n",
    "4.Run through steps 1-3 setting k to 10\n",
    "\n",
    "5.Run through steps 1-3 setting k to 20\n",
    "\n",
    "6.What are the differences in the evaluation metrics? Which performs better on your in-sample data? Why?\n",
    "\n",
    "7.Which model performs best on our out-of-sample data from validate?"
   ]
  },
  {
   "cell_type": "code",
   "execution_count": 1,
   "id": "da57b947",
   "metadata": {},
   "outputs": [],
   "source": [
    "# custom modules for data prep:\n",
    "import acquire as a\n",
    "import prepare as p\n",
    "import model as m\n",
    "\n",
    "# tabular manipulation\n",
    "import numpy as np\n",
    "import pandas as pd\n",
    "\n",
    "# ML stuff:\n",
    "from sklearn.metrics import accuracy_score, confusion_matrix, classification_report,recall_score,\\\n",
    "precision_score, f1_score\n",
    "from sklearn.tree import DecisionTreeClassifier, \\\n",
    "export_text, plot_tree\n",
    "from sklearn.ensemble import RandomForestClassifier\n",
    "from sklearn.linear_model import LogisticRegression #logistic not linear!\n",
    "from sklearn.neighbors import KNeighborsClassifier #pick the classifier one"
   ]
  },
  {
   "cell_type": "code",
   "execution_count": 2,
   "id": "1985aa5e",
   "metadata": {},
   "outputs": [
    {
     "name": "stdout",
     "output_type": "stream",
     "text": [
      "this file exists, reading csv\n"
     ]
    }
   ],
   "source": [
    "# acquire\n",
    "df=a.get_titanic_data()"
   ]
  },
  {
   "cell_type": "code",
   "execution_count": 3,
   "id": "fe208904",
   "metadata": {},
   "outputs": [
    {
     "data": {
      "text/html": [
       "<div>\n",
       "<style scoped>\n",
       "    .dataframe tbody tr th:only-of-type {\n",
       "        vertical-align: middle;\n",
       "    }\n",
       "\n",
       "    .dataframe tbody tr th {\n",
       "        vertical-align: top;\n",
       "    }\n",
       "\n",
       "    .dataframe thead th {\n",
       "        text-align: right;\n",
       "    }\n",
       "</style>\n",
       "<table border=\"1\" class=\"dataframe\">\n",
       "  <thead>\n",
       "    <tr style=\"text-align: right;\">\n",
       "      <th></th>\n",
       "      <th>passenger_id</th>\n",
       "      <th>survived</th>\n",
       "      <th>pclass</th>\n",
       "      <th>sex</th>\n",
       "      <th>age</th>\n",
       "      <th>sibsp</th>\n",
       "      <th>parch</th>\n",
       "      <th>fare</th>\n",
       "      <th>embarked</th>\n",
       "      <th>class</th>\n",
       "      <th>deck</th>\n",
       "      <th>embark_town</th>\n",
       "      <th>alone</th>\n",
       "    </tr>\n",
       "  </thead>\n",
       "  <tbody>\n",
       "    <tr>\n",
       "      <th>0</th>\n",
       "      <td>0</td>\n",
       "      <td>0</td>\n",
       "      <td>3</td>\n",
       "      <td>male</td>\n",
       "      <td>22.0</td>\n",
       "      <td>1</td>\n",
       "      <td>0</td>\n",
       "      <td>7.2500</td>\n",
       "      <td>S</td>\n",
       "      <td>Third</td>\n",
       "      <td>NaN</td>\n",
       "      <td>Southampton</td>\n",
       "      <td>0</td>\n",
       "    </tr>\n",
       "    <tr>\n",
       "      <th>1</th>\n",
       "      <td>1</td>\n",
       "      <td>1</td>\n",
       "      <td>1</td>\n",
       "      <td>female</td>\n",
       "      <td>38.0</td>\n",
       "      <td>1</td>\n",
       "      <td>0</td>\n",
       "      <td>71.2833</td>\n",
       "      <td>C</td>\n",
       "      <td>First</td>\n",
       "      <td>C</td>\n",
       "      <td>Cherbourg</td>\n",
       "      <td>0</td>\n",
       "    </tr>\n",
       "    <tr>\n",
       "      <th>2</th>\n",
       "      <td>2</td>\n",
       "      <td>1</td>\n",
       "      <td>3</td>\n",
       "      <td>female</td>\n",
       "      <td>26.0</td>\n",
       "      <td>0</td>\n",
       "      <td>0</td>\n",
       "      <td>7.9250</td>\n",
       "      <td>S</td>\n",
       "      <td>Third</td>\n",
       "      <td>NaN</td>\n",
       "      <td>Southampton</td>\n",
       "      <td>1</td>\n",
       "    </tr>\n",
       "  </tbody>\n",
       "</table>\n",
       "</div>"
      ],
      "text/plain": [
       "   passenger_id  survived  pclass     sex   age  sibsp  parch     fare  \\\n",
       "0             0         0       3    male  22.0      1      0   7.2500   \n",
       "1             1         1       1  female  38.0      1      0  71.2833   \n",
       "2             2         1       3  female  26.0      0      0   7.9250   \n",
       "\n",
       "  embarked  class deck  embark_town  alone  \n",
       "0        S  Third  NaN  Southampton      0  \n",
       "1        C  First    C    Cherbourg      0  \n",
       "2        S  Third  NaN  Southampton      1  "
      ]
     },
     "execution_count": 3,
     "metadata": {},
     "output_type": "execute_result"
    }
   ],
   "source": [
    "df.head(3)"
   ]
  },
  {
   "cell_type": "code",
   "execution_count": 4,
   "id": "1a7ec6a8",
   "metadata": {},
   "outputs": [
    {
     "data": {
      "text/html": [
       "<div>\n",
       "<style scoped>\n",
       "    .dataframe tbody tr th:only-of-type {\n",
       "        vertical-align: middle;\n",
       "    }\n",
       "\n",
       "    .dataframe tbody tr th {\n",
       "        vertical-align: top;\n",
       "    }\n",
       "\n",
       "    .dataframe thead th {\n",
       "        text-align: right;\n",
       "    }\n",
       "</style>\n",
       "<table border=\"1\" class=\"dataframe\">\n",
       "  <thead>\n",
       "    <tr style=\"text-align: right;\">\n",
       "      <th></th>\n",
       "      <th>passenger_id</th>\n",
       "      <th>survived</th>\n",
       "      <th>pclass</th>\n",
       "      <th>sex</th>\n",
       "      <th>sibsp</th>\n",
       "      <th>parch</th>\n",
       "      <th>fare</th>\n",
       "      <th>embark_town</th>\n",
       "      <th>alone</th>\n",
       "    </tr>\n",
       "  </thead>\n",
       "  <tbody>\n",
       "    <tr>\n",
       "      <th>0</th>\n",
       "      <td>0</td>\n",
       "      <td>0</td>\n",
       "      <td>3</td>\n",
       "      <td>male</td>\n",
       "      <td>1</td>\n",
       "      <td>0</td>\n",
       "      <td>7.2500</td>\n",
       "      <td>Southampton</td>\n",
       "      <td>0</td>\n",
       "    </tr>\n",
       "    <tr>\n",
       "      <th>1</th>\n",
       "      <td>1</td>\n",
       "      <td>1</td>\n",
       "      <td>1</td>\n",
       "      <td>female</td>\n",
       "      <td>1</td>\n",
       "      <td>0</td>\n",
       "      <td>71.2833</td>\n",
       "      <td>Cherbourg</td>\n",
       "      <td>0</td>\n",
       "    </tr>\n",
       "    <tr>\n",
       "      <th>2</th>\n",
       "      <td>2</td>\n",
       "      <td>1</td>\n",
       "      <td>3</td>\n",
       "      <td>female</td>\n",
       "      <td>0</td>\n",
       "      <td>0</td>\n",
       "      <td>7.9250</td>\n",
       "      <td>Southampton</td>\n",
       "      <td>1</td>\n",
       "    </tr>\n",
       "    <tr>\n",
       "      <th>3</th>\n",
       "      <td>3</td>\n",
       "      <td>1</td>\n",
       "      <td>1</td>\n",
       "      <td>female</td>\n",
       "      <td>1</td>\n",
       "      <td>0</td>\n",
       "      <td>53.1000</td>\n",
       "      <td>Southampton</td>\n",
       "      <td>0</td>\n",
       "    </tr>\n",
       "    <tr>\n",
       "      <th>4</th>\n",
       "      <td>4</td>\n",
       "      <td>0</td>\n",
       "      <td>3</td>\n",
       "      <td>male</td>\n",
       "      <td>0</td>\n",
       "      <td>0</td>\n",
       "      <td>8.0500</td>\n",
       "      <td>Southampton</td>\n",
       "      <td>1</td>\n",
       "    </tr>\n",
       "    <tr>\n",
       "      <th>...</th>\n",
       "      <td>...</td>\n",
       "      <td>...</td>\n",
       "      <td>...</td>\n",
       "      <td>...</td>\n",
       "      <td>...</td>\n",
       "      <td>...</td>\n",
       "      <td>...</td>\n",
       "      <td>...</td>\n",
       "      <td>...</td>\n",
       "    </tr>\n",
       "    <tr>\n",
       "      <th>886</th>\n",
       "      <td>886</td>\n",
       "      <td>0</td>\n",
       "      <td>2</td>\n",
       "      <td>male</td>\n",
       "      <td>0</td>\n",
       "      <td>0</td>\n",
       "      <td>13.0000</td>\n",
       "      <td>Southampton</td>\n",
       "      <td>1</td>\n",
       "    </tr>\n",
       "    <tr>\n",
       "      <th>887</th>\n",
       "      <td>887</td>\n",
       "      <td>1</td>\n",
       "      <td>1</td>\n",
       "      <td>female</td>\n",
       "      <td>0</td>\n",
       "      <td>0</td>\n",
       "      <td>30.0000</td>\n",
       "      <td>Southampton</td>\n",
       "      <td>1</td>\n",
       "    </tr>\n",
       "    <tr>\n",
       "      <th>888</th>\n",
       "      <td>888</td>\n",
       "      <td>0</td>\n",
       "      <td>3</td>\n",
       "      <td>female</td>\n",
       "      <td>1</td>\n",
       "      <td>2</td>\n",
       "      <td>23.4500</td>\n",
       "      <td>Southampton</td>\n",
       "      <td>0</td>\n",
       "    </tr>\n",
       "    <tr>\n",
       "      <th>889</th>\n",
       "      <td>889</td>\n",
       "      <td>1</td>\n",
       "      <td>1</td>\n",
       "      <td>male</td>\n",
       "      <td>0</td>\n",
       "      <td>0</td>\n",
       "      <td>30.0000</td>\n",
       "      <td>Cherbourg</td>\n",
       "      <td>1</td>\n",
       "    </tr>\n",
       "    <tr>\n",
       "      <th>890</th>\n",
       "      <td>890</td>\n",
       "      <td>0</td>\n",
       "      <td>3</td>\n",
       "      <td>male</td>\n",
       "      <td>0</td>\n",
       "      <td>0</td>\n",
       "      <td>7.7500</td>\n",
       "      <td>Queenstown</td>\n",
       "      <td>1</td>\n",
       "    </tr>\n",
       "  </tbody>\n",
       "</table>\n",
       "<p>891 rows × 9 columns</p>\n",
       "</div>"
      ],
      "text/plain": [
       "     passenger_id  survived pclass     sex  sibsp  parch     fare  \\\n",
       "0               0         0      3    male      1      0   7.2500   \n",
       "1               1         1      1  female      1      0  71.2833   \n",
       "2               2         1      3  female      0      0   7.9250   \n",
       "3               3         1      1  female      1      0  53.1000   \n",
       "4               4         0      3    male      0      0   8.0500   \n",
       "..            ...       ...    ...     ...    ...    ...      ...   \n",
       "886           886         0      2    male      0      0  13.0000   \n",
       "887           887         1      1  female      0      0  30.0000   \n",
       "888           888         0      3  female      1      2  23.4500   \n",
       "889           889         1      1    male      0      0  30.0000   \n",
       "890           890         0      3    male      0      0   7.7500   \n",
       "\n",
       "     embark_town  alone  \n",
       "0    Southampton      0  \n",
       "1      Cherbourg      0  \n",
       "2    Southampton      1  \n",
       "3    Southampton      0  \n",
       "4    Southampton      1  \n",
       "..           ...    ...  \n",
       "886  Southampton      1  \n",
       "887  Southampton      1  \n",
       "888  Southampton      0  \n",
       "889    Cherbourg      1  \n",
       "890   Queenstown      1  \n",
       "\n",
       "[891 rows x 9 columns]"
      ]
     },
     "execution_count": 4,
     "metadata": {},
     "output_type": "execute_result"
    }
   ],
   "source": [
    "# prepare\n",
    "df=p.prep_titanic(df)\n",
    "df"
   ]
  },
  {
   "cell_type": "code",
   "execution_count": 5,
   "id": "bbcb593c",
   "metadata": {},
   "outputs": [],
   "source": [
    "train,val,test=p.splitting_data(df,'survived')"
   ]
  },
  {
   "cell_type": "code",
   "execution_count": 6,
   "id": "3328a8a5",
   "metadata": {},
   "outputs": [],
   "source": [
    "\n",
    "train_en,val_en,test_en=m.preprocess_titanic(train,val,test)\n"
   ]
  },
  {
   "cell_type": "code",
   "execution_count": 7,
   "id": "9c87dcc1",
   "metadata": {},
   "outputs": [],
   "source": [
    "# separate independents feature & target\n",
    "X_train, y_train = train_en.drop(columns='survived'), train_en.survived\n",
    "X_validate, y_validate = val_en.drop(columns='survived'), val_en.survived\n",
    "X_test, y_test = test_en.drop(columns='survived'), test_en.survived"
   ]
  },
  {
   "cell_type": "markdown",
   "id": "7d97963a",
   "metadata": {},
   "source": [
    "### baseline (train) -- this is apply for all splits dataframes"
   ]
  },
  {
   "cell_type": "code",
   "execution_count": 8,
   "id": "df989b1b",
   "metadata": {},
   "outputs": [
    {
     "data": {
      "text/plain": [
       "survived\n",
       "0    329\n",
       "1    205\n",
       "Name: count, dtype: int64"
      ]
     },
     "execution_count": 8,
     "metadata": {},
     "output_type": "execute_result"
    }
   ],
   "source": [
    "# for train\n",
    "y_train.value_counts()"
   ]
  },
  {
   "cell_type": "code",
   "execution_count": 9,
   "id": "c91a031d",
   "metadata": {},
   "outputs": [
    {
     "data": {
      "text/plain": [
       "0    0\n",
       "Name: survived, dtype: int64"
      ]
     },
     "execution_count": 9,
     "metadata": {},
     "output_type": "execute_result"
    }
   ],
   "source": [
    "y_train.mode()"
   ]
  },
  {
   "cell_type": "code",
   "execution_count": 10,
   "id": "bdf5c255",
   "metadata": {},
   "outputs": [
    {
     "data": {
      "text/plain": [
       "0.62"
      ]
     },
     "execution_count": 10,
     "metadata": {},
     "output_type": "execute_result"
    }
   ],
   "source": [
    "# baseline accuracy\n",
    "y_train.value_counts(normalize=True)[0].round(2)"
   ]
  },
  {
   "cell_type": "markdown",
   "id": "f9e197b9",
   "metadata": {},
   "source": [
    "> conclusion \n",
    "    \n",
    "    baseline predict = 0\n",
    "    \n",
    "    baseline accuracy = 62%"
   ]
  },
  {
   "cell_type": "markdown",
   "id": "8f2d5eea",
   "metadata": {},
   "source": [
    "> Q1) Fit a K-Nearest Neighbors classifier to your training sample and transform (i.e. make predictions on the training sample)\n"
   ]
  },
  {
   "cell_type": "code",
   "execution_count": 11,
   "id": "a5137fec",
   "metadata": {},
   "outputs": [
    {
     "data": {
      "text/html": [
       "<style>#sk-container-id-1 {color: black;}#sk-container-id-1 pre{padding: 0;}#sk-container-id-1 div.sk-toggleable {background-color: white;}#sk-container-id-1 label.sk-toggleable__label {cursor: pointer;display: block;width: 100%;margin-bottom: 0;padding: 0.3em;box-sizing: border-box;text-align: center;}#sk-container-id-1 label.sk-toggleable__label-arrow:before {content: \"▸\";float: left;margin-right: 0.25em;color: #696969;}#sk-container-id-1 label.sk-toggleable__label-arrow:hover:before {color: black;}#sk-container-id-1 div.sk-estimator:hover label.sk-toggleable__label-arrow:before {color: black;}#sk-container-id-1 div.sk-toggleable__content {max-height: 0;max-width: 0;overflow: hidden;text-align: left;background-color: #f0f8ff;}#sk-container-id-1 div.sk-toggleable__content pre {margin: 0.2em;color: black;border-radius: 0.25em;background-color: #f0f8ff;}#sk-container-id-1 input.sk-toggleable__control:checked~div.sk-toggleable__content {max-height: 200px;max-width: 100%;overflow: auto;}#sk-container-id-1 input.sk-toggleable__control:checked~label.sk-toggleable__label-arrow:before {content: \"▾\";}#sk-container-id-1 div.sk-estimator input.sk-toggleable__control:checked~label.sk-toggleable__label {background-color: #d4ebff;}#sk-container-id-1 div.sk-label input.sk-toggleable__control:checked~label.sk-toggleable__label {background-color: #d4ebff;}#sk-container-id-1 input.sk-hidden--visually {border: 0;clip: rect(1px 1px 1px 1px);clip: rect(1px, 1px, 1px, 1px);height: 1px;margin: -1px;overflow: hidden;padding: 0;position: absolute;width: 1px;}#sk-container-id-1 div.sk-estimator {font-family: monospace;background-color: #f0f8ff;border: 1px dotted black;border-radius: 0.25em;box-sizing: border-box;margin-bottom: 0.5em;}#sk-container-id-1 div.sk-estimator:hover {background-color: #d4ebff;}#sk-container-id-1 div.sk-parallel-item::after {content: \"\";width: 100%;border-bottom: 1px solid gray;flex-grow: 1;}#sk-container-id-1 div.sk-label:hover label.sk-toggleable__label {background-color: #d4ebff;}#sk-container-id-1 div.sk-serial::before {content: \"\";position: absolute;border-left: 1px solid gray;box-sizing: border-box;top: 0;bottom: 0;left: 50%;z-index: 0;}#sk-container-id-1 div.sk-serial {display: flex;flex-direction: column;align-items: center;background-color: white;padding-right: 0.2em;padding-left: 0.2em;position: relative;}#sk-container-id-1 div.sk-item {position: relative;z-index: 1;}#sk-container-id-1 div.sk-parallel {display: flex;align-items: stretch;justify-content: center;background-color: white;position: relative;}#sk-container-id-1 div.sk-item::before, #sk-container-id-1 div.sk-parallel-item::before {content: \"\";position: absolute;border-left: 1px solid gray;box-sizing: border-box;top: 0;bottom: 0;left: 50%;z-index: -1;}#sk-container-id-1 div.sk-parallel-item {display: flex;flex-direction: column;z-index: 1;position: relative;background-color: white;}#sk-container-id-1 div.sk-parallel-item:first-child::after {align-self: flex-end;width: 50%;}#sk-container-id-1 div.sk-parallel-item:last-child::after {align-self: flex-start;width: 50%;}#sk-container-id-1 div.sk-parallel-item:only-child::after {width: 0;}#sk-container-id-1 div.sk-dashed-wrapped {border: 1px dashed gray;margin: 0 0.4em 0.5em 0.4em;box-sizing: border-box;padding-bottom: 0.4em;background-color: white;}#sk-container-id-1 div.sk-label label {font-family: monospace;font-weight: bold;display: inline-block;line-height: 1.2em;}#sk-container-id-1 div.sk-label-container {text-align: center;}#sk-container-id-1 div.sk-container {/* jupyter's `normalize.less` sets `[hidden] { display: none; }` but bootstrap.min.css set `[hidden] { display: none !important; }` so we also need the `!important` here to be able to override the default hidden behavior on the sphinx rendered scikit-learn.org. See: https://github.com/scikit-learn/scikit-learn/issues/21755 */display: inline-block !important;position: relative;}#sk-container-id-1 div.sk-text-repr-fallback {display: none;}</style><div id=\"sk-container-id-1\" class=\"sk-top-container\"><div class=\"sk-text-repr-fallback\"><pre>KNeighborsClassifier()</pre><b>In a Jupyter environment, please rerun this cell to show the HTML representation or trust the notebook. <br />On GitHub, the HTML representation is unable to render, please try loading this page with nbviewer.org.</b></div><div class=\"sk-container\" hidden><div class=\"sk-item\"><div class=\"sk-estimator sk-toggleable\"><input class=\"sk-toggleable__control sk-hidden--visually\" id=\"sk-estimator-id-1\" type=\"checkbox\" checked><label for=\"sk-estimator-id-1\" class=\"sk-toggleable__label sk-toggleable__label-arrow\">KNeighborsClassifier</label><div class=\"sk-toggleable__content\"><pre>KNeighborsClassifier()</pre></div></div></div></div></div>"
      ],
      "text/plain": [
       "KNeighborsClassifier()"
      ]
     },
     "execution_count": 11,
     "metadata": {},
     "output_type": "execute_result"
    }
   ],
   "source": [
    "knn = KNeighborsClassifier()\n",
    "knn.fit(X_train, y_train)\n"
   ]
  },
  {
   "cell_type": "code",
   "execution_count": 12,
   "id": "d0eb392f",
   "metadata": {},
   "outputs": [
    {
     "data": {
      "text/plain": [
       "array([0, 1, 1, 1, 0, 0, 1, 0, 1, 0])"
      ]
     },
     "execution_count": 12,
     "metadata": {},
     "output_type": "execute_result"
    }
   ],
   "source": [
    "# predict target by using algorithm knn model\n",
    "\n",
    "y_pred = knn.predict(X_train)\n",
    "y_pred[:10]\n"
   ]
  },
  {
   "cell_type": "markdown",
   "id": "5788f3af",
   "metadata": {},
   "source": [
    "> Q2.Evaluate your results using the model score, confusion matrix, and classification report.\n"
   ]
  },
  {
   "cell_type": "code",
   "execution_count": 13,
   "id": "ed5435a9",
   "metadata": {},
   "outputs": [
    {
     "data": {
      "text/plain": [
       "0.8258426966292135"
      ]
     },
     "execution_count": 13,
     "metadata": {},
     "output_type": "execute_result"
    }
   ],
   "source": [
    "# model score\n",
    "acc =knn.score(X_train,y_train)\n",
    "acc"
   ]
  },
  {
   "cell_type": "code",
   "execution_count": 14,
   "id": "2189d512",
   "metadata": {},
   "outputs": [
    {
     "data": {
      "text/html": [
       "<div>\n",
       "<style scoped>\n",
       "    .dataframe tbody tr th:only-of-type {\n",
       "        vertical-align: middle;\n",
       "    }\n",
       "\n",
       "    .dataframe tbody tr th {\n",
       "        vertical-align: top;\n",
       "    }\n",
       "\n",
       "    .dataframe thead th {\n",
       "        text-align: right;\n",
       "    }\n",
       "</style>\n",
       "<table border=\"1\" class=\"dataframe\">\n",
       "  <thead>\n",
       "    <tr style=\"text-align: right;\">\n",
       "      <th>col_0</th>\n",
       "      <th>0</th>\n",
       "      <th>1</th>\n",
       "    </tr>\n",
       "    <tr>\n",
       "      <th>survived</th>\n",
       "      <th></th>\n",
       "      <th></th>\n",
       "    </tr>\n",
       "  </thead>\n",
       "  <tbody>\n",
       "    <tr>\n",
       "      <th>0</th>\n",
       "      <td>286</td>\n",
       "      <td>43</td>\n",
       "    </tr>\n",
       "    <tr>\n",
       "      <th>1</th>\n",
       "      <td>50</td>\n",
       "      <td>155</td>\n",
       "    </tr>\n",
       "  </tbody>\n",
       "</table>\n",
       "</div>"
      ],
      "text/plain": [
       "col_0       0    1\n",
       "survived          \n",
       "0         286   43\n",
       "1          50  155"
      ]
     },
     "execution_count": 14,
     "metadata": {},
     "output_type": "execute_result"
    }
   ],
   "source": [
    "# confusion matrix\n",
    "pd.crosstab(y_train,y_pred)"
   ]
  },
  {
   "cell_type": "code",
   "execution_count": 15,
   "id": "0686c94d",
   "metadata": {},
   "outputs": [
    {
     "name": "stdout",
     "output_type": "stream",
     "text": [
      "              precision    recall  f1-score   support\n",
      "\n",
      "           0       0.85      0.87      0.86       329\n",
      "           1       0.78      0.76      0.77       205\n",
      "\n",
      "    accuracy                           0.83       534\n",
      "   macro avg       0.82      0.81      0.81       534\n",
      "weighted avg       0.82      0.83      0.83       534\n",
      "\n"
     ]
    }
   ],
   "source": [
    "print(classification_report(y_train, y_pred))\n"
   ]
  },
  {
   "cell_type": "markdown",
   "id": "9237c7ef",
   "metadata": {},
   "source": [
    "> Q3)Print and clearly label the following: Accuracy, true positive rate, false positive rate, true negative rate, false negative rate, precision, recall, f1-score, and support."
   ]
  },
  {
   "cell_type": "code",
   "execution_count": 16,
   "id": "d6a9ed5f",
   "metadata": {},
   "outputs": [],
   "source": [
    "def compute_class_metrics(y_train, y_pred):\n",
    "    \n",
    "    counts = pd.crosstab(y_train, y_pred)\n",
    "    TP = counts.iloc[1,1]\n",
    "    TN = counts.iloc[0,0]\n",
    "    FP = counts.iloc[0,1]\n",
    "    FN = counts.iloc[1,0]\n",
    "    \n",
    "    \n",
    "    all_ = (TP + TN + FP + FN)\n",
    "\n",
    "    accuracy = (TP + TN) / all_\n",
    "\n",
    "    TPR = recall = TP / (TP + FN)\n",
    "    FPR = FP / (FP + TN)\n",
    "\n",
    "    TNR = TN / (FP + TN)\n",
    "    FNR = FN / (FN + TP)\n",
    "\n",
    "    precision =  TP / (TP + FP)\n",
    "    f1 =  2 * ((precision * recall) / ( precision + recall))\n",
    "\n",
    "    support_pos = TP + FN\n",
    "    support_neg = FP + TN\n",
    "    \n",
    "    print(f\"Accuracy: {accuracy}\\n\")\n",
    "    print(f\"True Positive Rate/Sensitivity/Recall/Power: {TPR}\")\n",
    "    print(f\"False Positive Rate/False Alarm Ratio/Fall-out: {FPR}\")\n",
    "    print(f\"True Negative Rate/Specificity/Selectivity: {TNR}\")\n",
    "    print(f\"False Negative Rate/Miss Rate: {FNR}\\n\")\n",
    "    print(f\"Precision/PPV: {precision}\")\n",
    "    print(f\"F1 Score: {f1}\\n\")\n",
    "    print(f\"Support (0): {support_pos}\")\n",
    "    print(f\"Support (1): {support_neg}\")"
   ]
  },
  {
   "cell_type": "code",
   "execution_count": 17,
   "id": "69482e44",
   "metadata": {},
   "outputs": [
    {
     "name": "stdout",
     "output_type": "stream",
     "text": [
      "Accuracy: 0.8258426966292135\n",
      "\n",
      "True Positive Rate/Sensitivity/Recall/Power: 0.7560975609756098\n",
      "False Positive Rate/False Alarm Ratio/Fall-out: 0.13069908814589665\n",
      "True Negative Rate/Specificity/Selectivity: 0.8693009118541033\n",
      "False Negative Rate/Miss Rate: 0.24390243902439024\n",
      "\n",
      "Precision/PPV: 0.7828282828282829\n",
      "F1 Score: 0.7692307692307692\n",
      "\n",
      "Support (0): 205\n",
      "Support (1): 329\n"
     ]
    }
   ],
   "source": [
    "compute_class_metrics(y_train, y_pred)"
   ]
  },
  {
   "cell_type": "markdown",
   "id": "ed532176",
   "metadata": {},
   "source": [
    "> Q4) Run through steps 1-3 setting k to 10"
   ]
  },
  {
   "cell_type": "code",
   "execution_count": 18,
   "id": "6969bea1",
   "metadata": {},
   "outputs": [
    {
     "name": "stdout",
     "output_type": "stream",
     "text": [
      "Accuracy: 0.7883895131086143\n",
      "\n",
      "True Positive Rate/Sensitivity/Recall/Power: 0.6536585365853659\n",
      "False Positive Rate/False Alarm Ratio/Fall-out: 0.1276595744680851\n",
      "True Negative Rate/Specificity/Selectivity: 0.8723404255319149\n",
      "False Negative Rate/Miss Rate: 0.3463414634146341\n",
      "\n",
      "Precision/PPV: 0.7613636363636364\n",
      "F1 Score: 0.7034120734908137\n",
      "\n",
      "Support (0): 205\n",
      "Support (1): 329\n"
     ]
    }
   ],
   "source": [
    "knn10 = KNeighborsClassifier(n_neighbors=10)\n",
    "knn10.fit(X_train, y_train)\n",
    "y_pred = knn10.predict(X_train)\n",
    "compute_class_metrics(y_train, y_pred)"
   ]
  },
  {
   "cell_type": "markdown",
   "id": "a1ad5854",
   "metadata": {},
   "source": [
    "> Q5) Run through steps 1-3 setting k to 20"
   ]
  },
  {
   "cell_type": "code",
   "execution_count": 19,
   "id": "f1e9d417",
   "metadata": {},
   "outputs": [
    {
     "name": "stdout",
     "output_type": "stream",
     "text": [
      "Accuracy: 0.7340823970037453\n",
      "\n",
      "True Positive Rate/Sensitivity/Recall/Power: 0.5317073170731708\n",
      "False Positive Rate/False Alarm Ratio/Fall-out: 0.1398176291793313\n",
      "True Negative Rate/Specificity/Selectivity: 0.8601823708206687\n",
      "False Negative Rate/Miss Rate: 0.4682926829268293\n",
      "\n",
      "Precision/PPV: 0.7032258064516129\n",
      "F1 Score: 0.6055555555555556\n",
      "\n",
      "Support (0): 205\n",
      "Support (1): 329\n"
     ]
    }
   ],
   "source": [
    "knn20 = KNeighborsClassifier(n_neighbors=20)\n",
    "knn20.fit(X_train, y_train)\n",
    "y_pred = knn20.predict(X_train)\n",
    "compute_class_metrics(y_train, y_pred)"
   ]
  },
  {
   "cell_type": "markdown",
   "id": "46d9cd24",
   "metadata": {},
   "source": [
    "> Q6)What are the differences in the evaluation metrics? Which performs better on your in-sample data? Why?"
   ]
  },
  {
   "cell_type": "markdown",
   "id": "284e5734",
   "metadata": {},
   "source": [
    "From the above result, the model with 5 nearest neighbors performed the best."
   ]
  },
  {
   "cell_type": "markdown",
   "id": "28b54704",
   "metadata": {},
   "source": [
    "> Q7) Which model performs best on our out-of-sample data from validate?"
   ]
  },
  {
   "cell_type": "code",
   "execution_count": 20,
   "id": "e3c94595",
   "metadata": {},
   "outputs": [
    {
     "data": {
      "text/plain": [
       "0.8258426966292135"
      ]
     },
     "execution_count": 20,
     "metadata": {},
     "output_type": "execute_result"
    }
   ],
   "source": [
    "knn.score(X_train, y_train)"
   ]
  },
  {
   "cell_type": "code",
   "execution_count": 21,
   "id": "45dae565",
   "metadata": {},
   "outputs": [
    {
     "data": {
      "text/plain": [
       "0.7883895131086143"
      ]
     },
     "execution_count": 21,
     "metadata": {},
     "output_type": "execute_result"
    }
   ],
   "source": [
    "knn10.score(X_train, y_train)"
   ]
  },
  {
   "cell_type": "code",
   "execution_count": 22,
   "id": "89f22df8",
   "metadata": {},
   "outputs": [
    {
     "data": {
      "text/plain": [
       "0.7340823970037453"
      ]
     },
     "execution_count": 22,
     "metadata": {},
     "output_type": "execute_result"
    }
   ],
   "source": [
    "knn20.score(X_train, y_train)\n"
   ]
  },
  {
   "cell_type": "markdown",
   "id": "5152ad33",
   "metadata": {},
   "source": [
    " from the output, the model with 5 nearest neighbors performs the best model."
   ]
  },
  {
   "cell_type": "code",
   "execution_count": null,
   "id": "5f85e22d",
   "metadata": {},
   "outputs": [],
   "source": []
  },
  {
   "cell_type": "code",
   "execution_count": null,
   "id": "f0fffa5c",
   "metadata": {},
   "outputs": [],
   "source": []
  },
  {
   "cell_type": "code",
   "execution_count": null,
   "id": "27ea0145",
   "metadata": {},
   "outputs": [],
   "source": []
  },
  {
   "cell_type": "code",
   "execution_count": null,
   "id": "c6a37c29",
   "metadata": {},
   "outputs": [],
   "source": []
  },
  {
   "cell_type": "code",
   "execution_count": null,
   "id": "bf7aefec",
   "metadata": {},
   "outputs": [],
   "source": []
  },
  {
   "cell_type": "code",
   "execution_count": null,
   "id": "5419f06e",
   "metadata": {},
   "outputs": [],
   "source": []
  },
  {
   "cell_type": "code",
   "execution_count": null,
   "id": "4984423a",
   "metadata": {},
   "outputs": [],
   "source": []
  },
  {
   "cell_type": "code",
   "execution_count": null,
   "id": "8d505a92",
   "metadata": {},
   "outputs": [],
   "source": []
  },
  {
   "cell_type": "code",
   "execution_count": null,
   "id": "cb89dbfb",
   "metadata": {},
   "outputs": [],
   "source": []
  },
  {
   "cell_type": "code",
   "execution_count": null,
   "id": "bfc1a097",
   "metadata": {},
   "outputs": [],
   "source": []
  },
  {
   "cell_type": "code",
   "execution_count": null,
   "id": "7db3adf2",
   "metadata": {},
   "outputs": [],
   "source": []
  },
  {
   "cell_type": "code",
   "execution_count": null,
   "id": "e2cf262e",
   "metadata": {},
   "outputs": [],
   "source": []
  }
 ],
 "metadata": {
  "kernelspec": {
   "display_name": "Python 3 (ipykernel)",
   "language": "python",
   "name": "python3"
  },
  "language_info": {
   "codemirror_mode": {
    "name": "ipython",
    "version": 3
   },
   "file_extension": ".py",
   "mimetype": "text/x-python",
   "name": "python",
   "nbconvert_exporter": "python",
   "pygments_lexer": "ipython3",
   "version": "3.11.5"
  }
 },
 "nbformat": 4,
 "nbformat_minor": 5
}
