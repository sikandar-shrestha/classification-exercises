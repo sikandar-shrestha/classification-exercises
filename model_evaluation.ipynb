{
 "cells": [
  {
   "cell_type": "markdown",
   "id": "b43ae2a5",
   "metadata": {},
   "source": [
    "## pipeline: step 5 (  Evaluation matrix exercises)"
   ]
  },
  {
   "cell_type": "markdown",
   "id": "baeefd33",
   "metadata": {},
   "source": [
    "\n",
    "### 2. Given the following confusion matrix, evaluate (by hand) the model's performance.\n",
    "\n",
    "|               | pred dog   | pred cat   |\n",
    "|-------------  |------------|------------|\n",
    "| actual dog    |         46 |         7  |\n",
    "| actual cat    |         13 |         34 |\n",
    "\n",
    "Answer:-----\n",
    "\n",
    "    positive = 'dog'\n",
    "    \n",
    "    negative = 'cat'\n",
    "        \n",
    "        \n",
    " ###    - In the context of this problem, what is a false positive?\n",
    "\n",
    "    A: fp = when i predicted 'dog', but it was actually 'cat.\n",
    "            (i.e. predicted='dog' , but actual='cat')\n",
    "            (i.e. 13 in the matrix)\n",
    "\n",
    " ###   - In the context of this problem, what is a false negative?\n",
    "    A: fn =>  predicted='cat', but acutal='dog'\n",
    "            (i.e. 7 in the matrix)\n",
    "    \n",
    " ###   - How would you describe this model?\n",
    "    \n",
    "    A: The matrices like accuracy, precision, recall etc should be calculated to get a comprehensive understanding of the model's performance. which i evaluate below:\n"
   ]
  },
  {
   "cell_type": "code",
   "execution_count": 1,
   "id": "961975d3",
   "metadata": {},
   "outputs": [],
   "source": [
    "# for positive='dog' and negative='cat'\n",
    "tp=46\n",
    "tn=34\n",
    "fp=13\n",
    "fn=7\n"
   ]
  },
  {
   "cell_type": "code",
   "execution_count": 2,
   "id": "1939df36",
   "metadata": {},
   "outputs": [
    {
     "name": "stdout",
     "output_type": "stream",
     "text": [
      "accuracy:0.8\n"
     ]
    }
   ],
   "source": [
    "accuracy=(tp+tn)/(tp+tn+fp+fn)\n",
    "print(f'accuracy:{accuracy}')"
   ]
  },
  {
   "cell_type": "markdown",
   "id": "c5046838",
   "metadata": {},
   "source": [
    "From the above accuracy result, i predict cat or dog 80% of the time."
   ]
  },
  {
   "cell_type": "markdown",
   "id": "7ff56649",
   "metadata": {},
   "source": [
    "### Q3) You are working as a datascientist working for Codeup Cody Creator (C3 for short), a rubber-duck manufacturing plant.\n",
    "\n",
    "Unfortunately, some of the rubber ducks that are produced will have defects. Your team has built several models that try to predict those defects, and the data from their predictions can be found here.\n",
    "\n",
    "Use the predictions dataset and pandas to help answer the following questions:\n",
    "\n",
    "\n",
    "- An internal team wants to investigate the cause of the manufacturing defects. They tell you that they want to identify as many of the ducks that have a defect as possible. Which evaluation metric would be appropriate here? Which model would be the best fit for this use case?\n",
    "\n",
    "\n",
    "\n",
    "- Recently several stories in the local news have come out highlighting customers who received a rubber duck with a defect, and portraying C3 in a bad light. The PR team has decided to launch a program that gives customers with a defective duck a vacation to Hawaii. They need you to predict which ducks will have defects, but tell you the really don't want to accidentally give out a vacation package when the duck really doesn't have a defect. Which evaluation metric would be appropriate here? Which model would be the best fit for this use case?"
   ]
  },
  {
   "cell_type": "code",
   "execution_count": 3,
   "id": "bab78db9",
   "metadata": {},
   "outputs": [],
   "source": [
    "import pandas as pd\n",
    "import numpy as np"
   ]
  },
  {
   "cell_type": "code",
   "execution_count": 4,
   "id": "53997695",
   "metadata": {},
   "outputs": [],
   "source": [
    "# also: pd.read_csv('~Download/c3.csv') if file is located at the Download folder\n",
    "df = pd.read_csv('c3.csv')"
   ]
  },
  {
   "cell_type": "code",
   "execution_count": 5,
   "id": "4b67ef1a",
   "metadata": {},
   "outputs": [
    {
     "data": {
      "text/html": [
       "<div>\n",
       "<style scoped>\n",
       "    .dataframe tbody tr th:only-of-type {\n",
       "        vertical-align: middle;\n",
       "    }\n",
       "\n",
       "    .dataframe tbody tr th {\n",
       "        vertical-align: top;\n",
       "    }\n",
       "\n",
       "    .dataframe thead th {\n",
       "        text-align: right;\n",
       "    }\n",
       "</style>\n",
       "<table border=\"1\" class=\"dataframe\">\n",
       "  <thead>\n",
       "    <tr style=\"text-align: right;\">\n",
       "      <th></th>\n",
       "      <th>actual</th>\n",
       "      <th>model1</th>\n",
       "      <th>model2</th>\n",
       "      <th>model3</th>\n",
       "    </tr>\n",
       "  </thead>\n",
       "  <tbody>\n",
       "    <tr>\n",
       "      <th>0</th>\n",
       "      <td>No Defect</td>\n",
       "      <td>No Defect</td>\n",
       "      <td>Defect</td>\n",
       "      <td>No Defect</td>\n",
       "    </tr>\n",
       "    <tr>\n",
       "      <th>1</th>\n",
       "      <td>No Defect</td>\n",
       "      <td>No Defect</td>\n",
       "      <td>Defect</td>\n",
       "      <td>Defect</td>\n",
       "    </tr>\n",
       "    <tr>\n",
       "      <th>2</th>\n",
       "      <td>No Defect</td>\n",
       "      <td>No Defect</td>\n",
       "      <td>Defect</td>\n",
       "      <td>No Defect</td>\n",
       "    </tr>\n",
       "    <tr>\n",
       "      <th>3</th>\n",
       "      <td>No Defect</td>\n",
       "      <td>Defect</td>\n",
       "      <td>Defect</td>\n",
       "      <td>Defect</td>\n",
       "    </tr>\n",
       "    <tr>\n",
       "      <th>4</th>\n",
       "      <td>No Defect</td>\n",
       "      <td>No Defect</td>\n",
       "      <td>Defect</td>\n",
       "      <td>No Defect</td>\n",
       "    </tr>\n",
       "  </tbody>\n",
       "</table>\n",
       "</div>"
      ],
      "text/plain": [
       "      actual     model1  model2     model3\n",
       "0  No Defect  No Defect  Defect  No Defect\n",
       "1  No Defect  No Defect  Defect     Defect\n",
       "2  No Defect  No Defect  Defect  No Defect\n",
       "3  No Defect     Defect  Defect     Defect\n",
       "4  No Defect  No Defect  Defect  No Defect"
      ]
     },
     "execution_count": 5,
     "metadata": {},
     "output_type": "execute_result"
    }
   ],
   "source": [
    "df.head()"
   ]
  },
  {
   "cell_type": "code",
   "execution_count": 6,
   "id": "96646a95",
   "metadata": {},
   "outputs": [
    {
     "data": {
      "text/plain": [
       "(200, 4)"
      ]
     },
     "execution_count": 6,
     "metadata": {},
     "output_type": "execute_result"
    }
   ],
   "source": [
    "df.shape"
   ]
  },
  {
   "cell_type": "markdown",
   "id": "92dc6612",
   "metadata": {},
   "source": [
    "###  Q3.1) An internal team wants to investigate the cause of the manufacturing defects.\n",
    "\n",
    "### They tell you that they want to identify as many of the ducks that have a defect as possible.\n",
    "\n",
    "### Which evaluation metric would be appropriate here?\n",
    "\n",
    "### Which model would be the best fit for this use case?\n"
   ]
  },
  {
   "cell_type": "markdown",
   "id": "92f4b440",
   "metadata": {},
   "source": [
    "positive case = 'defect'\n",
    "\n",
    "negative case = 'no defect'\n",
    "\n",
    "false negatives: when i predicted 'no defect', but there was a defect\n",
    "\n",
    "false positives: when i prediced 'defect', but there was 'no defect'\n",
    "\n",
    "recall: minimize false negatives, looking at positive actual\n",
    "\n",
    "precision: minmize false positives, looking at positive prediction"
   ]
  },
  {
   "cell_type": "markdown",
   "id": "eaa1d3f7",
   "metadata": {},
   "source": [
    "Remarks:-\n",
    "1. Recall: \n",
    "        \n",
    "        - predicting the actual positive.\n",
    "        \n",
    "        - it evaluates how the model handled all positive outcomes.\n",
    "        \n",
    "        - it looks at positive actual.\n",
    "        \n",
    "        - it minimize fn\n",
    "        \n",
    "2. Precision:\n",
    "        \n",
    "        - it evaluates how many of the positive predictions were correct.\n",
    "        \n",
    "        - accuracy % of predicted positive case.\n",
    "        \n",
    "        - it looks at positive prediction.\n",
    "        \n",
    "        - it minimize fp"
   ]
  },
  {
   "cell_type": "markdown",
   "id": "e687dcff",
   "metadata": {},
   "source": [
    "### model1 ( evaluation matrices )"
   ]
  },
  {
   "cell_type": "code",
   "execution_count": 7,
   "id": "cf58be2e",
   "metadata": {
    "scrolled": true
   },
   "outputs": [
    {
     "data": {
      "text/html": [
       "<div>\n",
       "<style scoped>\n",
       "    .dataframe tbody tr th:only-of-type {\n",
       "        vertical-align: middle;\n",
       "    }\n",
       "\n",
       "    .dataframe tbody tr th {\n",
       "        vertical-align: top;\n",
       "    }\n",
       "\n",
       "    .dataframe thead th {\n",
       "        text-align: right;\n",
       "    }\n",
       "</style>\n",
       "<table border=\"1\" class=\"dataframe\">\n",
       "  <thead>\n",
       "    <tr style=\"text-align: right;\">\n",
       "      <th>model1</th>\n",
       "      <th>Defect</th>\n",
       "      <th>No Defect</th>\n",
       "    </tr>\n",
       "    <tr>\n",
       "      <th>actual</th>\n",
       "      <th></th>\n",
       "      <th></th>\n",
       "    </tr>\n",
       "  </thead>\n",
       "  <tbody>\n",
       "    <tr>\n",
       "      <th>Defect</th>\n",
       "      <td>8</td>\n",
       "      <td>8</td>\n",
       "    </tr>\n",
       "    <tr>\n",
       "      <th>No Defect</th>\n",
       "      <td>2</td>\n",
       "      <td>182</td>\n",
       "    </tr>\n",
       "  </tbody>\n",
       "</table>\n",
       "</div>"
      ],
      "text/plain": [
       "model1     Defect  No Defect\n",
       "actual                      \n",
       "Defect          8          8\n",
       "No Defect       2        182"
      ]
     },
     "execution_count": 7,
     "metadata": {},
     "output_type": "execute_result"
    }
   ],
   "source": [
    "counts_model1 = pd.crosstab(df.actual, df.model1)\n",
    "counts_model1"
   ]
  },
  {
   "cell_type": "code",
   "execution_count": 8,
   "id": "5d370f41",
   "metadata": {},
   "outputs": [],
   "source": [
    "tp = counts_model1.iloc[0,0] #rows, columns\n",
    "fn = counts_model1.iloc[0,1]\n",
    "fp = counts_model1.iloc[1,0]\n",
    "tn = counts_model1.iloc[1,1]"
   ]
  },
  {
   "cell_type": "code",
   "execution_count": 9,
   "id": "6625e0c2",
   "metadata": {},
   "outputs": [
    {
     "data": {
      "text/plain": [
       "(8, 8, 2, 182)"
      ]
     },
     "execution_count": 9,
     "metadata": {},
     "output_type": "execute_result"
    }
   ],
   "source": [
    "tp, fn, fp, tn"
   ]
  },
  {
   "cell_type": "code",
   "execution_count": 10,
   "id": "cff31981",
   "metadata": {},
   "outputs": [
    {
     "name": "stdout",
     "output_type": "stream",
     "text": [
      "accuracy of model1: 0.95\n"
     ]
    }
   ],
   "source": [
    "accuracy_model1=(tp + tn) / (tp + tn + fp + fn)\n",
    "print(f'accuracy of model1: {accuracy_model1}')"
   ]
  },
  {
   "cell_type": "code",
   "execution_count": 11,
   "id": "bac355c5",
   "metadata": {},
   "outputs": [
    {
     "data": {
      "text/plain": [
       "0.8"
      ]
     },
     "execution_count": 11,
     "metadata": {},
     "output_type": "execute_result"
    }
   ],
   "source": [
    "# 1st way by using crosstab \n",
    "\n",
    "precision_model1= tp / (tp + fp)\n",
    "precision_model1\n"
   ]
  },
  {
   "cell_type": "code",
   "execution_count": 12,
   "id": "f0db37a2",
   "metadata": {},
   "outputs": [
    {
     "data": {
      "text/html": [
       "<div>\n",
       "<style scoped>\n",
       "    .dataframe tbody tr th:only-of-type {\n",
       "        vertical-align: middle;\n",
       "    }\n",
       "\n",
       "    .dataframe tbody tr th {\n",
       "        vertical-align: top;\n",
       "    }\n",
       "\n",
       "    .dataframe thead th {\n",
       "        text-align: right;\n",
       "    }\n",
       "</style>\n",
       "<table border=\"1\" class=\"dataframe\">\n",
       "  <thead>\n",
       "    <tr style=\"text-align: right;\">\n",
       "      <th></th>\n",
       "      <th>actual</th>\n",
       "      <th>model1</th>\n",
       "      <th>model2</th>\n",
       "      <th>model3</th>\n",
       "    </tr>\n",
       "  </thead>\n",
       "  <tbody>\n",
       "    <tr>\n",
       "      <th>3</th>\n",
       "      <td>No Defect</td>\n",
       "      <td>Defect</td>\n",
       "      <td>Defect</td>\n",
       "      <td>Defect</td>\n",
       "    </tr>\n",
       "    <tr>\n",
       "      <th>30</th>\n",
       "      <td>Defect</td>\n",
       "      <td>Defect</td>\n",
       "      <td>No Defect</td>\n",
       "      <td>Defect</td>\n",
       "    </tr>\n",
       "    <tr>\n",
       "      <th>62</th>\n",
       "      <td>No Defect</td>\n",
       "      <td>Defect</td>\n",
       "      <td>No Defect</td>\n",
       "      <td>No Defect</td>\n",
       "    </tr>\n",
       "    <tr>\n",
       "      <th>65</th>\n",
       "      <td>Defect</td>\n",
       "      <td>Defect</td>\n",
       "      <td>Defect</td>\n",
       "      <td>Defect</td>\n",
       "    </tr>\n",
       "    <tr>\n",
       "      <th>70</th>\n",
       "      <td>Defect</td>\n",
       "      <td>Defect</td>\n",
       "      <td>Defect</td>\n",
       "      <td>Defect</td>\n",
       "    </tr>\n",
       "    <tr>\n",
       "      <th>135</th>\n",
       "      <td>Defect</td>\n",
       "      <td>Defect</td>\n",
       "      <td>No Defect</td>\n",
       "      <td>Defect</td>\n",
       "    </tr>\n",
       "    <tr>\n",
       "      <th>147</th>\n",
       "      <td>Defect</td>\n",
       "      <td>Defect</td>\n",
       "      <td>No Defect</td>\n",
       "      <td>Defect</td>\n",
       "    </tr>\n",
       "    <tr>\n",
       "      <th>163</th>\n",
       "      <td>Defect</td>\n",
       "      <td>Defect</td>\n",
       "      <td>Defect</td>\n",
       "      <td>Defect</td>\n",
       "    </tr>\n",
       "    <tr>\n",
       "      <th>194</th>\n",
       "      <td>Defect</td>\n",
       "      <td>Defect</td>\n",
       "      <td>No Defect</td>\n",
       "      <td>Defect</td>\n",
       "    </tr>\n",
       "    <tr>\n",
       "      <th>196</th>\n",
       "      <td>Defect</td>\n",
       "      <td>Defect</td>\n",
       "      <td>No Defect</td>\n",
       "      <td>No Defect</td>\n",
       "    </tr>\n",
       "  </tbody>\n",
       "</table>\n",
       "</div>"
      ],
      "text/plain": [
       "        actual  model1     model2     model3\n",
       "3    No Defect  Defect     Defect     Defect\n",
       "30      Defect  Defect  No Defect     Defect\n",
       "62   No Defect  Defect  No Defect  No Defect\n",
       "65      Defect  Defect     Defect     Defect\n",
       "70      Defect  Defect     Defect     Defect\n",
       "135     Defect  Defect  No Defect     Defect\n",
       "147     Defect  Defect  No Defect     Defect\n",
       "163     Defect  Defect     Defect     Defect\n",
       "194     Defect  Defect  No Defect     Defect\n",
       "196     Defect  Defect  No Defect  No Defect"
      ]
     },
     "execution_count": 12,
     "metadata": {},
     "output_type": "execute_result"
    }
   ],
   "source": [
    "# 2nd way by using mask boolean\n",
    "# to check precision for model1\n",
    "\n",
    "# filtering all predicted positives\n",
    "\n",
    "pos_model1=df[df.model1 == 'Defect']\n",
    "pos_model1"
   ]
  },
  {
   "cell_type": "code",
   "execution_count": 13,
   "id": "5c18dc4f",
   "metadata": {},
   "outputs": [
    {
     "data": {
      "text/plain": [
       "0.8"
      ]
     },
     "execution_count": 13,
     "metadata": {},
     "output_type": "execute_result"
    }
   ],
   "source": [
    "(pos_model1.actual==pos_model1.model1).mean()"
   ]
  },
  {
   "cell_type": "code",
   "execution_count": 14,
   "id": "08208265",
   "metadata": {},
   "outputs": [],
   "source": [
    "recall_model1=tp/(tp+fp)"
   ]
  },
  {
   "cell_type": "code",
   "execution_count": 15,
   "id": "2256a533",
   "metadata": {},
   "outputs": [
    {
     "data": {
      "text/html": [
       "<div>\n",
       "<style scoped>\n",
       "    .dataframe tbody tr th:only-of-type {\n",
       "        vertical-align: middle;\n",
       "    }\n",
       "\n",
       "    .dataframe tbody tr th {\n",
       "        vertical-align: top;\n",
       "    }\n",
       "\n",
       "    .dataframe thead th {\n",
       "        text-align: right;\n",
       "    }\n",
       "</style>\n",
       "<table border=\"1\" class=\"dataframe\">\n",
       "  <thead>\n",
       "    <tr style=\"text-align: right;\">\n",
       "      <th></th>\n",
       "      <th>actual</th>\n",
       "      <th>model1</th>\n",
       "      <th>model2</th>\n",
       "      <th>model3</th>\n",
       "    </tr>\n",
       "  </thead>\n",
       "  <tbody>\n",
       "    <tr>\n",
       "      <th>13</th>\n",
       "      <td>Defect</td>\n",
       "      <td>No Defect</td>\n",
       "      <td>Defect</td>\n",
       "      <td>Defect</td>\n",
       "    </tr>\n",
       "    <tr>\n",
       "      <th>30</th>\n",
       "      <td>Defect</td>\n",
       "      <td>Defect</td>\n",
       "      <td>No Defect</td>\n",
       "      <td>Defect</td>\n",
       "    </tr>\n",
       "    <tr>\n",
       "      <th>65</th>\n",
       "      <td>Defect</td>\n",
       "      <td>Defect</td>\n",
       "      <td>Defect</td>\n",
       "      <td>Defect</td>\n",
       "    </tr>\n",
       "    <tr>\n",
       "      <th>70</th>\n",
       "      <td>Defect</td>\n",
       "      <td>Defect</td>\n",
       "      <td>Defect</td>\n",
       "      <td>Defect</td>\n",
       "    </tr>\n",
       "    <tr>\n",
       "      <th>74</th>\n",
       "      <td>Defect</td>\n",
       "      <td>No Defect</td>\n",
       "      <td>No Defect</td>\n",
       "      <td>Defect</td>\n",
       "    </tr>\n",
       "    <tr>\n",
       "      <th>87</th>\n",
       "      <td>Defect</td>\n",
       "      <td>No Defect</td>\n",
       "      <td>Defect</td>\n",
       "      <td>Defect</td>\n",
       "    </tr>\n",
       "    <tr>\n",
       "      <th>118</th>\n",
       "      <td>Defect</td>\n",
       "      <td>No Defect</td>\n",
       "      <td>Defect</td>\n",
       "      <td>No Defect</td>\n",
       "    </tr>\n",
       "    <tr>\n",
       "      <th>135</th>\n",
       "      <td>Defect</td>\n",
       "      <td>Defect</td>\n",
       "      <td>No Defect</td>\n",
       "      <td>Defect</td>\n",
       "    </tr>\n",
       "    <tr>\n",
       "      <th>140</th>\n",
       "      <td>Defect</td>\n",
       "      <td>No Defect</td>\n",
       "      <td>Defect</td>\n",
       "      <td>Defect</td>\n",
       "    </tr>\n",
       "    <tr>\n",
       "      <th>147</th>\n",
       "      <td>Defect</td>\n",
       "      <td>Defect</td>\n",
       "      <td>No Defect</td>\n",
       "      <td>Defect</td>\n",
       "    </tr>\n",
       "    <tr>\n",
       "      <th>163</th>\n",
       "      <td>Defect</td>\n",
       "      <td>Defect</td>\n",
       "      <td>Defect</td>\n",
       "      <td>Defect</td>\n",
       "    </tr>\n",
       "    <tr>\n",
       "      <th>171</th>\n",
       "      <td>Defect</td>\n",
       "      <td>No Defect</td>\n",
       "      <td>Defect</td>\n",
       "      <td>Defect</td>\n",
       "    </tr>\n",
       "    <tr>\n",
       "      <th>176</th>\n",
       "      <td>Defect</td>\n",
       "      <td>No Defect</td>\n",
       "      <td>Defect</td>\n",
       "      <td>Defect</td>\n",
       "    </tr>\n",
       "    <tr>\n",
       "      <th>186</th>\n",
       "      <td>Defect</td>\n",
       "      <td>No Defect</td>\n",
       "      <td>No Defect</td>\n",
       "      <td>No Defect</td>\n",
       "    </tr>\n",
       "    <tr>\n",
       "      <th>194</th>\n",
       "      <td>Defect</td>\n",
       "      <td>Defect</td>\n",
       "      <td>No Defect</td>\n",
       "      <td>Defect</td>\n",
       "    </tr>\n",
       "    <tr>\n",
       "      <th>196</th>\n",
       "      <td>Defect</td>\n",
       "      <td>Defect</td>\n",
       "      <td>No Defect</td>\n",
       "      <td>No Defect</td>\n",
       "    </tr>\n",
       "  </tbody>\n",
       "</table>\n",
       "</div>"
      ],
      "text/plain": [
       "     actual     model1     model2     model3\n",
       "13   Defect  No Defect     Defect     Defect\n",
       "30   Defect     Defect  No Defect     Defect\n",
       "65   Defect     Defect     Defect     Defect\n",
       "70   Defect     Defect     Defect     Defect\n",
       "74   Defect  No Defect  No Defect     Defect\n",
       "87   Defect  No Defect     Defect     Defect\n",
       "118  Defect  No Defect     Defect  No Defect\n",
       "135  Defect     Defect  No Defect     Defect\n",
       "140  Defect  No Defect     Defect     Defect\n",
       "147  Defect     Defect  No Defect     Defect\n",
       "163  Defect     Defect     Defect     Defect\n",
       "171  Defect  No Defect     Defect     Defect\n",
       "176  Defect  No Defect     Defect     Defect\n",
       "186  Defect  No Defect  No Defect  No Defect\n",
       "194  Defect     Defect  No Defect     Defect\n",
       "196  Defect     Defect  No Defect  No Defect"
      ]
     },
     "execution_count": 15,
     "metadata": {},
     "output_type": "execute_result"
    }
   ],
   "source": [
    "# filtering all actual positives\n",
    "\n",
    "pos_actual=df[df.actual == 'Defect']\n",
    "pos_actual"
   ]
  },
  {
   "cell_type": "code",
   "execution_count": 16,
   "id": "c39e56ae",
   "metadata": {},
   "outputs": [
    {
     "data": {
      "text/plain": [
       "0.5"
      ]
     },
     "execution_count": 16,
     "metadata": {},
     "output_type": "execute_result"
    }
   ],
   "source": [
    "(pos_actual.actual == pos_actual.model1).mean()"
   ]
  },
  {
   "cell_type": "markdown",
   "id": "a01c7815",
   "metadata": {},
   "source": [
    "### model2 \n"
   ]
  },
  {
   "cell_type": "code",
   "execution_count": 17,
   "id": "8ef50f21",
   "metadata": {},
   "outputs": [
    {
     "data": {
      "text/html": [
       "<div>\n",
       "<style scoped>\n",
       "    .dataframe tbody tr th:only-of-type {\n",
       "        vertical-align: middle;\n",
       "    }\n",
       "\n",
       "    .dataframe tbody tr th {\n",
       "        vertical-align: top;\n",
       "    }\n",
       "\n",
       "    .dataframe thead th {\n",
       "        text-align: right;\n",
       "    }\n",
       "</style>\n",
       "<table border=\"1\" class=\"dataframe\">\n",
       "  <thead>\n",
       "    <tr style=\"text-align: right;\">\n",
       "      <th>model2</th>\n",
       "      <th>Defect</th>\n",
       "      <th>No Defect</th>\n",
       "    </tr>\n",
       "    <tr>\n",
       "      <th>actual</th>\n",
       "      <th></th>\n",
       "      <th></th>\n",
       "    </tr>\n",
       "  </thead>\n",
       "  <tbody>\n",
       "    <tr>\n",
       "      <th>Defect</th>\n",
       "      <td>9</td>\n",
       "      <td>7</td>\n",
       "    </tr>\n",
       "    <tr>\n",
       "      <th>No Defect</th>\n",
       "      <td>81</td>\n",
       "      <td>103</td>\n",
       "    </tr>\n",
       "  </tbody>\n",
       "</table>\n",
       "</div>"
      ],
      "text/plain": [
       "model2     Defect  No Defect\n",
       "actual                      \n",
       "Defect          9          7\n",
       "No Defect      81        103"
      ]
     },
     "execution_count": 17,
     "metadata": {},
     "output_type": "execute_result"
    }
   ],
   "source": [
    "counts_model2=pd.crosstab(df.actual,df.model2)\n",
    "counts_model2"
   ]
  },
  {
   "cell_type": "code",
   "execution_count": 18,
   "id": "61499143",
   "metadata": {},
   "outputs": [],
   "source": [
    "tp = counts_model2.iloc[0,0] #rows, columns\n",
    "fn = counts_model2.iloc[0,1]\n",
    "fp = counts_model2.iloc[1,0]\n",
    "tn = counts_model2.iloc[1,1]"
   ]
  },
  {
   "cell_type": "code",
   "execution_count": 19,
   "id": "e3fd45f8",
   "metadata": {},
   "outputs": [
    {
     "data": {
      "text/plain": [
       "(9, 7, 81, 103)"
      ]
     },
     "execution_count": 19,
     "metadata": {},
     "output_type": "execute_result"
    }
   ],
   "source": [
    "tp,fn,fp,tn"
   ]
  },
  {
   "cell_type": "code",
   "execution_count": 20,
   "id": "a5d24a22",
   "metadata": {},
   "outputs": [
    {
     "data": {
      "text/plain": [
       "0.40875912408759124"
      ]
     },
     "execution_count": 20,
     "metadata": {},
     "output_type": "execute_result"
    }
   ],
   "source": [
    "accuracy_model2 = (tp+tn)/(tp+fp+tn+fp)\n",
    "accuracy_model2"
   ]
  },
  {
   "cell_type": "code",
   "execution_count": 21,
   "id": "eac11de0",
   "metadata": {},
   "outputs": [
    {
     "data": {
      "text/plain": [
       "0.1"
      ]
     },
     "execution_count": 21,
     "metadata": {},
     "output_type": "execute_result"
    }
   ],
   "source": [
    "precision_model2= tp/(tp+fp)\n",
    "precision_model2"
   ]
  },
  {
   "cell_type": "code",
   "execution_count": 22,
   "id": "b1379cbe",
   "metadata": {},
   "outputs": [
    {
     "data": {
      "text/plain": [
       "0.5625"
      ]
     },
     "execution_count": 22,
     "metadata": {},
     "output_type": "execute_result"
    }
   ],
   "source": [
    "recall_model2=tp/(tp+fn)\n",
    "recall_model2"
   ]
  },
  {
   "cell_type": "markdown",
   "id": "1265f821",
   "metadata": {},
   "source": [
    "### model3"
   ]
  },
  {
   "cell_type": "code",
   "execution_count": 23,
   "id": "69b212ef",
   "metadata": {},
   "outputs": [
    {
     "data": {
      "text/html": [
       "<div>\n",
       "<style scoped>\n",
       "    .dataframe tbody tr th:only-of-type {\n",
       "        vertical-align: middle;\n",
       "    }\n",
       "\n",
       "    .dataframe tbody tr th {\n",
       "        vertical-align: top;\n",
       "    }\n",
       "\n",
       "    .dataframe thead th {\n",
       "        text-align: right;\n",
       "    }\n",
       "</style>\n",
       "<table border=\"1\" class=\"dataframe\">\n",
       "  <thead>\n",
       "    <tr style=\"text-align: right;\">\n",
       "      <th>model3</th>\n",
       "      <th>Defect</th>\n",
       "      <th>No Defect</th>\n",
       "    </tr>\n",
       "    <tr>\n",
       "      <th>actual</th>\n",
       "      <th></th>\n",
       "      <th></th>\n",
       "    </tr>\n",
       "  </thead>\n",
       "  <tbody>\n",
       "    <tr>\n",
       "      <th>Defect</th>\n",
       "      <td>13</td>\n",
       "      <td>3</td>\n",
       "    </tr>\n",
       "    <tr>\n",
       "      <th>No Defect</th>\n",
       "      <td>86</td>\n",
       "      <td>98</td>\n",
       "    </tr>\n",
       "  </tbody>\n",
       "</table>\n",
       "</div>"
      ],
      "text/plain": [
       "model3     Defect  No Defect\n",
       "actual                      \n",
       "Defect         13          3\n",
       "No Defect      86         98"
      ]
     },
     "execution_count": 23,
     "metadata": {},
     "output_type": "execute_result"
    }
   ],
   "source": [
    "counts_model3=pd.crosstab(df.actual,df.model3)\n",
    "counts_model3"
   ]
  },
  {
   "cell_type": "code",
   "execution_count": 24,
   "id": "5060659e",
   "metadata": {},
   "outputs": [],
   "source": [
    "tp = counts_model3.iloc[0,0] #rows, columns\n",
    "fn = counts_model3.iloc[0,1]\n",
    "fp = counts_model3.iloc[1,0]\n",
    "tn = counts_model3.iloc[1,1]"
   ]
  },
  {
   "cell_type": "code",
   "execution_count": 25,
   "id": "c1fbc0dd",
   "metadata": {},
   "outputs": [
    {
     "data": {
      "text/plain": [
       "(13, 3, 86, 98)"
      ]
     },
     "execution_count": 25,
     "metadata": {},
     "output_type": "execute_result"
    }
   ],
   "source": [
    "tp,fn,fp,tn"
   ]
  },
  {
   "cell_type": "code",
   "execution_count": 26,
   "id": "1fa14bd8",
   "metadata": {},
   "outputs": [
    {
     "data": {
      "text/plain": [
       "0.392226148409894"
      ]
     },
     "execution_count": 26,
     "metadata": {},
     "output_type": "execute_result"
    }
   ],
   "source": [
    "accuracy_model3 = (tp+tn)/(tp+fp+tn+fp)\n",
    "accuracy_model3"
   ]
  },
  {
   "cell_type": "code",
   "execution_count": 27,
   "id": "fe244fcb",
   "metadata": {},
   "outputs": [
    {
     "data": {
      "text/plain": [
       "0.13131313131313133"
      ]
     },
     "execution_count": 27,
     "metadata": {},
     "output_type": "execute_result"
    }
   ],
   "source": [
    "precision_model3= tp/(tp+fp)\n",
    "precision_model3"
   ]
  },
  {
   "cell_type": "code",
   "execution_count": 28,
   "id": "3b665b24",
   "metadata": {},
   "outputs": [
    {
     "data": {
      "text/plain": [
       "0.8125"
      ]
     },
     "execution_count": 28,
     "metadata": {},
     "output_type": "execute_result"
    }
   ],
   "source": [
    "recall_model3=tp/(tp+fn)\n",
    "recall_model3"
   ]
  },
  {
   "cell_type": "code",
   "execution_count": 29,
   "id": "1a5010d1",
   "metadata": {},
   "outputs": [
    {
     "name": "stdout",
     "output_type": "stream",
     "text": [
      "For model1\n",
      "accuracy of model1:0.95\n",
      "precision of model1:0.8\n",
      "recall of model1:0.8\n",
      "\n",
      "\n",
      "For model2\n",
      "accuracy of model1:0.40875912408759124\n",
      "precision of model1:0.1\n",
      "recall of model1:0.5625\n",
      "\n",
      "\n",
      "for model3\n",
      "accuracy of model1:0.392226148409894\n",
      "precision of model1:0.13131313131313133\n",
      "recall of model1:0.8125\n"
     ]
    }
   ],
   "source": [
    "print('For model1')\n",
    "print(f'accuracy of model1:{accuracy_model1}')\n",
    "print(f'precision of model1:{precision_model1}')\n",
    "print(f'recall of model1:{recall_model1}')\n",
    "print('\\n')\n",
    "print('For model2')\n",
    "print(f'accuracy of model1:{accuracy_model2}')\n",
    "print(f'precision of model1:{precision_model2}')\n",
    "print(f'recall of model1:{recall_model2}')\n",
    "print(f'\\n')\n",
    "print(f'for model3')\n",
    "print(f'accuracy of model1:{accuracy_model3}')\n",
    "print(f'precision of model1:{precision_model3}')\n",
    "print(f'recall of model1:{recall_model3}')"
   ]
  },
  {
   "cell_type": "markdown",
   "id": "279026e3",
   "metadata": {},
   "source": [
    "### Another shortest way to do Q3.1) by using 'mask boolean' \n",
    "\n",
    "For this scenario, we will choose recall evaluation matrix."
   ]
  },
  {
   "cell_type": "code",
   "execution_count": 30,
   "id": "7eb8e3e6",
   "metadata": {},
   "outputs": [
    {
     "data": {
      "text/html": [
       "<div>\n",
       "<style scoped>\n",
       "    .dataframe tbody tr th:only-of-type {\n",
       "        vertical-align: middle;\n",
       "    }\n",
       "\n",
       "    .dataframe tbody tr th {\n",
       "        vertical-align: top;\n",
       "    }\n",
       "\n",
       "    .dataframe thead th {\n",
       "        text-align: right;\n",
       "    }\n",
       "</style>\n",
       "<table border=\"1\" class=\"dataframe\">\n",
       "  <thead>\n",
       "    <tr style=\"text-align: right;\">\n",
       "      <th></th>\n",
       "      <th>actual</th>\n",
       "      <th>model1</th>\n",
       "      <th>model2</th>\n",
       "      <th>model3</th>\n",
       "    </tr>\n",
       "  </thead>\n",
       "  <tbody>\n",
       "    <tr>\n",
       "      <th>13</th>\n",
       "      <td>Defect</td>\n",
       "      <td>No Defect</td>\n",
       "      <td>Defect</td>\n",
       "      <td>Defect</td>\n",
       "    </tr>\n",
       "    <tr>\n",
       "      <th>30</th>\n",
       "      <td>Defect</td>\n",
       "      <td>Defect</td>\n",
       "      <td>No Defect</td>\n",
       "      <td>Defect</td>\n",
       "    </tr>\n",
       "    <tr>\n",
       "      <th>65</th>\n",
       "      <td>Defect</td>\n",
       "      <td>Defect</td>\n",
       "      <td>Defect</td>\n",
       "      <td>Defect</td>\n",
       "    </tr>\n",
       "  </tbody>\n",
       "</table>\n",
       "</div>"
      ],
      "text/plain": [
       "    actual     model1     model2  model3\n",
       "13  Defect  No Defect     Defect  Defect\n",
       "30  Defect     Defect  No Defect  Defect\n",
       "65  Defect     Defect     Defect  Defect"
      ]
     },
     "execution_count": 30,
     "metadata": {},
     "output_type": "execute_result"
    }
   ],
   "source": [
    "# recall looks positive actual\n",
    "# here, positive='Defect' and negative='No Defect'\n",
    "pos_actual= df[df.actual== 'Defect']\n",
    "pos_actual.head(3)"
   ]
  },
  {
   "cell_type": "code",
   "execution_count": 31,
   "id": "53a61afc",
   "metadata": {},
   "outputs": [
    {
     "data": {
      "text/plain": [
       "0.5"
      ]
     },
     "execution_count": 31,
     "metadata": {},
     "output_type": "execute_result"
    }
   ],
   "source": [
    "# model1\n",
    "recall_model1=(pos_actual.actual== pos_actual.model1).mean()\n",
    "recall_model1"
   ]
  },
  {
   "cell_type": "code",
   "execution_count": 32,
   "id": "97d9fd33",
   "metadata": {},
   "outputs": [
    {
     "data": {
      "text/plain": [
       "0.5625"
      ]
     },
     "execution_count": 32,
     "metadata": {},
     "output_type": "execute_result"
    }
   ],
   "source": [
    "# model2\n",
    "recall_model2  =(pos_actual.actual==pos_actual.model2).mean()\n",
    "recall_model2\n"
   ]
  },
  {
   "cell_type": "code",
   "execution_count": 33,
   "id": "e4db8a84",
   "metadata": {},
   "outputs": [
    {
     "data": {
      "text/plain": [
       "0.8125"
      ]
     },
     "execution_count": 33,
     "metadata": {},
     "output_type": "execute_result"
    }
   ],
   "source": [
    "# model3\n",
    "recall_model3 = (pos_actual.actual==pos_actual.model3).mean()\n",
    "recall_model3"
   ]
  },
  {
   "cell_type": "code",
   "execution_count": 34,
   "id": "28b3fca9",
   "metadata": {
    "scrolled": true
   },
   "outputs": [
    {
     "name": "stdout",
     "output_type": "stream",
     "text": [
      "recall of model1:0.5625\n",
      "recall of model2:0.5625\n",
      "recall of model3:0.8125\n"
     ]
    }
   ],
   "source": [
    "print(f'recall of model1:{recall_model2}')\n",
    "print(f'recall of model2:{recall_model2}')\n",
    "print(f'recall of model3:{recall_model3}')"
   ]
  },
  {
   "cell_type": "markdown",
   "id": "5c0c1eb3",
   "metadata": {},
   "source": [
    "model3 works best for correctly predicing our defects in the ducks (using recall)"
   ]
  },
  {
   "cell_type": "markdown",
   "id": "af0feaca",
   "metadata": {},
   "source": [
    "### Q3.2) Recently several stories in the local news have come out highlighting customers\n",
    "who received a rubber duck with a defect, \n",
    "and portraying C3 in a bad light. \n",
    "\n",
    "The PR team has decided to launch a program that gives customers with a defective duck a vacation to Hawaii.\n",
    "They need you to predict which ducks will have defects, \n",
    "but tell you the really don't want to accidentally give out a vacation package \n",
    "when the duck really doesn't have a defect. \n",
    "\n",
    "Which evaluation metric would be appropriate here? \n",
    "\n",
    "Which model would be the best fit for this use case?"
   ]
  },
  {
   "cell_type": "markdown",
   "id": "08e20547",
   "metadata": {},
   "source": [
    "Answer:--- we will use precision because we want to minimize false positives, we dont want to give someone a vacation when they dont have a defective duck. \n",
    "\n",
    "In this scenario, where the cost of false positives (predicting a defect when the duck doesn't have one) is high, and the objective is to avoid mistakenly providing a vacation package for a non-defective duck, precision becomes the crucial evaluation metric.¶"
   ]
  },
  {
   "cell_type": "code",
   "execution_count": 35,
   "id": "edf3f517",
   "metadata": {},
   "outputs": [
    {
     "data": {
      "text/html": [
       "<div>\n",
       "<style scoped>\n",
       "    .dataframe tbody tr th:only-of-type {\n",
       "        vertical-align: middle;\n",
       "    }\n",
       "\n",
       "    .dataframe tbody tr th {\n",
       "        vertical-align: top;\n",
       "    }\n",
       "\n",
       "    .dataframe thead th {\n",
       "        text-align: right;\n",
       "    }\n",
       "</style>\n",
       "<table border=\"1\" class=\"dataframe\">\n",
       "  <thead>\n",
       "    <tr style=\"text-align: right;\">\n",
       "      <th></th>\n",
       "      <th>actual</th>\n",
       "      <th>model1</th>\n",
       "      <th>model2</th>\n",
       "      <th>model3</th>\n",
       "    </tr>\n",
       "  </thead>\n",
       "  <tbody>\n",
       "    <tr>\n",
       "      <th>3</th>\n",
       "      <td>No Defect</td>\n",
       "      <td>Defect</td>\n",
       "      <td>Defect</td>\n",
       "      <td>Defect</td>\n",
       "    </tr>\n",
       "    <tr>\n",
       "      <th>30</th>\n",
       "      <td>Defect</td>\n",
       "      <td>Defect</td>\n",
       "      <td>No Defect</td>\n",
       "      <td>Defect</td>\n",
       "    </tr>\n",
       "    <tr>\n",
       "      <th>62</th>\n",
       "      <td>No Defect</td>\n",
       "      <td>Defect</td>\n",
       "      <td>No Defect</td>\n",
       "      <td>No Defect</td>\n",
       "    </tr>\n",
       "  </tbody>\n",
       "</table>\n",
       "</div>"
      ],
      "text/plain": [
       "       actual  model1     model2     model3\n",
       "3   No Defect  Defect     Defect     Defect\n",
       "30     Defect  Defect  No Defect     Defect\n",
       "62  No Defect  Defect  No Defect  No Defect"
      ]
     },
     "execution_count": 35,
     "metadata": {},
     "output_type": "execute_result"
    }
   ],
   "source": [
    "# precision looks positive prediction\n",
    "# here, positive='Defect' and negative='No Defect'\n",
    "pos_model_1= df[df.model1== 'Defect']\n",
    "pos_model_1.head(3)"
   ]
  },
  {
   "cell_type": "code",
   "execution_count": 36,
   "id": "22be4b8a",
   "metadata": {},
   "outputs": [
    {
     "data": {
      "text/plain": [
       "0.8"
      ]
     },
     "execution_count": 36,
     "metadata": {},
     "output_type": "execute_result"
    }
   ],
   "source": [
    "precision_model1=(pos_model_1.model1== pos_model_1.actual).mean()\n",
    "precision_model1"
   ]
  },
  {
   "cell_type": "code",
   "execution_count": 37,
   "id": "12c2b15f",
   "metadata": {},
   "outputs": [
    {
     "data": {
      "text/html": [
       "<div>\n",
       "<style scoped>\n",
       "    .dataframe tbody tr th:only-of-type {\n",
       "        vertical-align: middle;\n",
       "    }\n",
       "\n",
       "    .dataframe tbody tr th {\n",
       "        vertical-align: top;\n",
       "    }\n",
       "\n",
       "    .dataframe thead th {\n",
       "        text-align: right;\n",
       "    }\n",
       "</style>\n",
       "<table border=\"1\" class=\"dataframe\">\n",
       "  <thead>\n",
       "    <tr style=\"text-align: right;\">\n",
       "      <th></th>\n",
       "      <th>actual</th>\n",
       "      <th>model1</th>\n",
       "      <th>model2</th>\n",
       "      <th>model3</th>\n",
       "    </tr>\n",
       "  </thead>\n",
       "  <tbody>\n",
       "    <tr>\n",
       "      <th>0</th>\n",
       "      <td>No Defect</td>\n",
       "      <td>No Defect</td>\n",
       "      <td>Defect</td>\n",
       "      <td>No Defect</td>\n",
       "    </tr>\n",
       "    <tr>\n",
       "      <th>1</th>\n",
       "      <td>No Defect</td>\n",
       "      <td>No Defect</td>\n",
       "      <td>Defect</td>\n",
       "      <td>Defect</td>\n",
       "    </tr>\n",
       "    <tr>\n",
       "      <th>2</th>\n",
       "      <td>No Defect</td>\n",
       "      <td>No Defect</td>\n",
       "      <td>Defect</td>\n",
       "      <td>No Defect</td>\n",
       "    </tr>\n",
       "  </tbody>\n",
       "</table>\n",
       "</div>"
      ],
      "text/plain": [
       "      actual     model1  model2     model3\n",
       "0  No Defect  No Defect  Defect  No Defect\n",
       "1  No Defect  No Defect  Defect     Defect\n",
       "2  No Defect  No Defect  Defect  No Defect"
      ]
     },
     "execution_count": 37,
     "metadata": {},
     "output_type": "execute_result"
    }
   ],
   "source": [
    "pos_model2= df[df.model2== 'Defect']\n",
    "pos_model2.head(3)"
   ]
  },
  {
   "cell_type": "code",
   "execution_count": 38,
   "id": "e447311d",
   "metadata": {},
   "outputs": [
    {
     "data": {
      "text/plain": [
       "0.1"
      ]
     },
     "execution_count": 38,
     "metadata": {},
     "output_type": "execute_result"
    }
   ],
   "source": [
    "precision_model2=(pos_model2.model2== pos_model2.actual).mean()\n",
    "precision_model2"
   ]
  },
  {
   "cell_type": "code",
   "execution_count": 39,
   "id": "e4fa3faa",
   "metadata": {},
   "outputs": [
    {
     "data": {
      "text/html": [
       "<div>\n",
       "<style scoped>\n",
       "    .dataframe tbody tr th:only-of-type {\n",
       "        vertical-align: middle;\n",
       "    }\n",
       "\n",
       "    .dataframe tbody tr th {\n",
       "        vertical-align: top;\n",
       "    }\n",
       "\n",
       "    .dataframe thead th {\n",
       "        text-align: right;\n",
       "    }\n",
       "</style>\n",
       "<table border=\"1\" class=\"dataframe\">\n",
       "  <thead>\n",
       "    <tr style=\"text-align: right;\">\n",
       "      <th></th>\n",
       "      <th>actual</th>\n",
       "      <th>model1</th>\n",
       "      <th>model2</th>\n",
       "      <th>model3</th>\n",
       "    </tr>\n",
       "  </thead>\n",
       "  <tbody>\n",
       "    <tr>\n",
       "      <th>1</th>\n",
       "      <td>No Defect</td>\n",
       "      <td>No Defect</td>\n",
       "      <td>Defect</td>\n",
       "      <td>Defect</td>\n",
       "    </tr>\n",
       "    <tr>\n",
       "      <th>3</th>\n",
       "      <td>No Defect</td>\n",
       "      <td>Defect</td>\n",
       "      <td>Defect</td>\n",
       "      <td>Defect</td>\n",
       "    </tr>\n",
       "    <tr>\n",
       "      <th>5</th>\n",
       "      <td>No Defect</td>\n",
       "      <td>No Defect</td>\n",
       "      <td>No Defect</td>\n",
       "      <td>Defect</td>\n",
       "    </tr>\n",
       "  </tbody>\n",
       "</table>\n",
       "</div>"
      ],
      "text/plain": [
       "      actual     model1     model2  model3\n",
       "1  No Defect  No Defect     Defect  Defect\n",
       "3  No Defect     Defect     Defect  Defect\n",
       "5  No Defect  No Defect  No Defect  Defect"
      ]
     },
     "execution_count": 39,
     "metadata": {},
     "output_type": "execute_result"
    }
   ],
   "source": [
    "pos_model3= df[df.model3== 'Defect']\n",
    "pos_model3.head(3)"
   ]
  },
  {
   "cell_type": "code",
   "execution_count": 40,
   "id": "9a9ae07a",
   "metadata": {},
   "outputs": [
    {
     "data": {
      "text/plain": [
       "0.13131313131313133"
      ]
     },
     "execution_count": 40,
     "metadata": {},
     "output_type": "execute_result"
    }
   ],
   "source": [
    "precision_model3=(pos_model3.model3== pos_model3.actual).mean()\n",
    "precision_model3"
   ]
  },
  {
   "cell_type": "code",
   "execution_count": 41,
   "id": "2511904d",
   "metadata": {
    "scrolled": true
   },
   "outputs": [
    {
     "name": "stdout",
     "output_type": "stream",
     "text": [
      "precision of model1:0.8\n",
      "precision of model2:0.1\n",
      "precision of model3:0.13131313131313133\n"
     ]
    }
   ],
   "source": [
    "print(f'precision of model1:{precision_model1}')\n",
    "print(f'precision of model2:{precision_model2}')\n",
    "print(f'precision of model3:{precision_model3}')"
   ]
  },
  {
   "cell_type": "markdown",
   "id": "ff5b6b3b",
   "metadata": {},
   "source": [
    "since model1 has highest precision, so model1 would be the best fit."
   ]
  },
  {
   "cell_type": "markdown",
   "id": "524f4b8c",
   "metadata": {},
   "source": [
    "### Q4) You are working as a data scientist for Gives You Paws ™, a subscription based service that shows you cute pictures of dogs or cats (or both for an additional fee).\n",
    "\n",
    "At Gives You Paws, anyone can upload pictures of their cats or dogs. The photos are then put through a two step process. First an automated algorithm tags pictures as either a cat or a dog (Phase I). \n",
    "\n",
    "Next, the photos that have been initially identified are put through another round of review, possibly with some human oversight, before being presented to the users (Phase II).\n",
    "\n",
    "Several models have already been developed with the data, and you can find their results here.\n",
    "\n",
    "Given this dataset, use pandas to create a baseline model (i.e. a model that just predicts the most common class) and answer the following questions:\n",
    "\n",
    "### a. In terms of accuracy, how do the various models compare to the baseline model? Are any of the models better than the baseline?\n",
    "\n",
    "### b. Suppose you are working on a team that solely deals with dog pictures. Which of these models would you recommend?\n",
    "\n",
    "### c. Suppose you are working on a team that solely deals with cat pictures. Which of these models would you recommend?"
   ]
  },
  {
   "cell_type": "markdown",
   "id": "df557406",
   "metadata": {},
   "source": [
    "> Given this dataset, use pandas to create a baseline model (i.e. a model that just predicts the most common class) and answer the following questions:\n"
   ]
  },
  {
   "cell_type": "code",
   "execution_count": 42,
   "id": "c9d08f52",
   "metadata": {},
   "outputs": [
    {
     "data": {
      "text/html": [
       "<div>\n",
       "<style scoped>\n",
       "    .dataframe tbody tr th:only-of-type {\n",
       "        vertical-align: middle;\n",
       "    }\n",
       "\n",
       "    .dataframe tbody tr th {\n",
       "        vertical-align: top;\n",
       "    }\n",
       "\n",
       "    .dataframe thead th {\n",
       "        text-align: right;\n",
       "    }\n",
       "</style>\n",
       "<table border=\"1\" class=\"dataframe\">\n",
       "  <thead>\n",
       "    <tr style=\"text-align: right;\">\n",
       "      <th></th>\n",
       "      <th>actual</th>\n",
       "      <th>model1</th>\n",
       "      <th>model2</th>\n",
       "      <th>model3</th>\n",
       "      <th>model4</th>\n",
       "    </tr>\n",
       "  </thead>\n",
       "  <tbody>\n",
       "    <tr>\n",
       "      <th>0</th>\n",
       "      <td>cat</td>\n",
       "      <td>cat</td>\n",
       "      <td>dog</td>\n",
       "      <td>cat</td>\n",
       "      <td>dog</td>\n",
       "    </tr>\n",
       "    <tr>\n",
       "      <th>1</th>\n",
       "      <td>dog</td>\n",
       "      <td>dog</td>\n",
       "      <td>cat</td>\n",
       "      <td>cat</td>\n",
       "      <td>dog</td>\n",
       "    </tr>\n",
       "    <tr>\n",
       "      <th>2</th>\n",
       "      <td>dog</td>\n",
       "      <td>cat</td>\n",
       "      <td>cat</td>\n",
       "      <td>cat</td>\n",
       "      <td>dog</td>\n",
       "    </tr>\n",
       "  </tbody>\n",
       "</table>\n",
       "</div>"
      ],
      "text/plain": [
       "  actual model1 model2 model3 model4\n",
       "0    cat    cat    dog    cat    dog\n",
       "1    dog    dog    cat    cat    dog\n",
       "2    dog    cat    cat    cat    dog"
      ]
     },
     "execution_count": 42,
     "metadata": {},
     "output_type": "execute_result"
    }
   ],
   "source": [
    "df = pd.read_csv('gives_you_paws.csv')\n",
    "df.head(3)"
   ]
  },
  {
   "cell_type": "code",
   "execution_count": 43,
   "id": "0d992a73",
   "metadata": {},
   "outputs": [
    {
     "data": {
      "text/plain": [
       "(5000, 5)"
      ]
     },
     "execution_count": 43,
     "metadata": {},
     "output_type": "execute_result"
    }
   ],
   "source": [
    "df.shape"
   ]
  },
  {
   "cell_type": "code",
   "execution_count": 44,
   "id": "7ea2dbec",
   "metadata": {},
   "outputs": [
    {
     "data": {
      "text/plain": [
       "actual\n",
       "dog    3254\n",
       "cat    1746\n",
       "Name: count, dtype: int64"
      ]
     },
     "execution_count": 44,
     "metadata": {},
     "output_type": "execute_result"
    }
   ],
   "source": [
    "df.actual.value_counts()"
   ]
  },
  {
   "cell_type": "code",
   "execution_count": 45,
   "id": "e2fed5fc",
   "metadata": {},
   "outputs": [
    {
     "data": {
      "text/plain": [
       "0.6508"
      ]
     },
     "execution_count": 45,
     "metadata": {},
     "output_type": "execute_result"
    }
   ],
   "source": [
    "# 1st way to find baseline:-----\n",
    "#turning my counts df.actual.value_counts() into %\n",
    "\n",
    "df.actual.value_counts(normalize=True)[0]"
   ]
  },
  {
   "cell_type": "code",
   "execution_count": 46,
   "id": "9074d759",
   "metadata": {},
   "outputs": [
    {
     "data": {
      "text/plain": [
       "0.6508"
      ]
     },
     "execution_count": 46,
     "metadata": {},
     "output_type": "execute_result"
    }
   ],
   "source": [
    "# 2nd way to find baseline:-----\n",
    "(df.actual=='dog').mean()"
   ]
  },
  {
   "cell_type": "markdown",
   "id": "a8fcd54f",
   "metadata": {},
   "source": [
    "> a. In terms of accuracy, how do the various models compare to the baseline model? Are any of the models better than the baseline?"
   ]
  },
  {
   "cell_type": "code",
   "execution_count": 47,
   "id": "e64e5794",
   "metadata": {},
   "outputs": [
    {
     "data": {
      "text/plain": [
       "Index(['model1', 'model2', 'model3', 'model4'], dtype='object')"
      ]
     },
     "execution_count": 47,
     "metadata": {},
     "output_type": "execute_result"
    }
   ],
   "source": [
    "df.columns[1:]"
   ]
  },
  {
   "cell_type": "code",
   "execution_count": 48,
   "id": "e5020150",
   "metadata": {},
   "outputs": [
    {
     "name": "stdout",
     "output_type": "stream",
     "text": [
      "for model1 the accuracy is 0.8074\n",
      "for model2 the accuracy is 0.6304\n",
      "for model3 the accuracy is 0.5096\n",
      "for model4 the accuracy is 0.7426\n"
     ]
    }
   ],
   "source": [
    "#looping through my 4 different models\n",
    "for col in df.columns[1:]:\n",
    "#     print(col)\n",
    "    acc = (df.actual == df[col]).mean()\n",
    "#     print(acc)\n",
    "    print(f'for {col} the accuracy is {acc}')"
   ]
  },
  {
   "cell_type": "markdown",
   "id": "14f4ca76",
   "metadata": {},
   "source": [
    "model1 and model4 better than the baseline."
   ]
  },
  {
   "cell_type": "markdown",
   "id": "b72c423c",
   "metadata": {},
   "source": [
    "> b. Suppose you are working on a team that solely deals with dog pictures. Which of these models would you recommend?"
   ]
  },
  {
   "cell_type": "markdown",
   "id": "94817d06",
   "metadata": {},
   "source": [
    "positive = 'dog'\n",
    "\n",
    "recall = minimize our false negatives\n",
    "\n",
    "precision = minimize our false positives\n",
    "\n",
    "false negatives = predicting a cat, when its actually a dog\n",
    "\n",
    "false positives = predicting a dog, when its actually a cat"
   ]
  },
  {
   "cell_type": "markdown",
   "id": "ef9c1ff5",
   "metadata": {},
   "source": [
    "i will choose precision to minimize false positives, cause i dont want cat pictures"
   ]
  },
  {
   "cell_type": "code",
   "execution_count": 49,
   "id": "4ff320ab",
   "metadata": {},
   "outputs": [
    {
     "data": {
      "text/plain": [
       "Index(['model1', 'model2', 'model3', 'model4'], dtype='object')"
      ]
     },
     "execution_count": 49,
     "metadata": {},
     "output_type": "execute_result"
    }
   ],
   "source": [
    "df.columns[1:]"
   ]
  },
  {
   "cell_type": "code",
   "execution_count": 50,
   "id": "498c4866",
   "metadata": {},
   "outputs": [
    {
     "name": "stdout",
     "output_type": "stream",
     "text": [
      "for model1 the precision is 0.89\n",
      "for model2 the precision is 0.89\n",
      "for model3 the precision is 0.66\n",
      "for model4 the precision is 0.73\n"
     ]
    }
   ],
   "source": [
    "for col in df.columns[1:]:\n",
    "    pos_prediction=df[df[col]=='dog']\n",
    "    precision=(pos_prediction[col]==pos_prediction.actual).mean()\n",
    "    print(f'for {col} the precision is {round(precision,2)}')\n",
    "    "
   ]
  },
  {
   "cell_type": "markdown",
   "id": "0416939d",
   "metadata": {},
   "source": [
    "based on the precision, either model 1 or model 2 would be best for predicting dog pictuers"
   ]
  },
  {
   "cell_type": "markdown",
   "id": "344f09ac",
   "metadata": {},
   "source": [
    "> c. Suppose you are working on a team that solely deals with cat pictures. Which of these models would you recommend?"
   ]
  },
  {
   "cell_type": "markdown",
   "id": "b7068739",
   "metadata": {},
   "source": [
    "positive = 'cat'\n",
    "\n",
    "recall = minimize our false negatives\n",
    "\n",
    "precision = minimize our false positives\n",
    "\n",
    "false negatives = predicting a dog, when its actually a cat\n",
    "\n",
    "false positives = predicting a cat, when its actually a dog"
   ]
  },
  {
   "cell_type": "code",
   "execution_count": 51,
   "id": "85bef5db",
   "metadata": {},
   "outputs": [
    {
     "name": "stdout",
     "output_type": "stream",
     "text": [
      "for model1 the precision is 0.69\n",
      "for model2 the precision is 0.48\n",
      "for model3 the precision is 0.36\n",
      "for model4 the precision is 0.81\n"
     ]
    }
   ],
   "source": [
    "for col in df.columns[1:]:\n",
    "    pos_prediction=df[df[col]=='cat']\n",
    "    precision=(pos_prediction[col]==pos_prediction.actual).mean()\n",
    "    print(f'for {col} the precision is {round(precision,2)}')\n",
    "    "
   ]
  },
  {
   "cell_type": "markdown",
   "id": "436ea006",
   "metadata": {},
   "source": [
    "using precision, model4 would be best for predicting cat pictures"
   ]
  },
  {
   "cell_type": "markdown",
   "id": "7d4d33d8",
   "metadata": {},
   "source": [
    "### Q5) Follow the links below to read the documentation about each function, then apply those functions to the data from the previous problem.\n",
    "\n",
    "### sklearn.metrics.accuracy_score\n",
    "\n",
    "### sklearn.metrics.precision_score\n",
    "\n",
    "### sklearn.metrics.recall_score\n",
    "\n",
    "### sklearn.metrics.classification_report"
   ]
  },
  {
   "cell_type": "code",
   "execution_count": 52,
   "id": "b1a3cb58",
   "metadata": {},
   "outputs": [],
   "source": [
    "from sklearn.metrics import accuracy_score, precision_score, recall_score, classification_report\n"
   ]
  },
  {
   "cell_type": "code",
   "execution_count": 53,
   "id": "f2bee980",
   "metadata": {},
   "outputs": [
    {
     "data": {
      "text/html": [
       "<div>\n",
       "<style scoped>\n",
       "    .dataframe tbody tr th:only-of-type {\n",
       "        vertical-align: middle;\n",
       "    }\n",
       "\n",
       "    .dataframe tbody tr th {\n",
       "        vertical-align: top;\n",
       "    }\n",
       "\n",
       "    .dataframe thead th {\n",
       "        text-align: right;\n",
       "    }\n",
       "</style>\n",
       "<table border=\"1\" class=\"dataframe\">\n",
       "  <thead>\n",
       "    <tr style=\"text-align: right;\">\n",
       "      <th></th>\n",
       "      <th>actual</th>\n",
       "      <th>model1</th>\n",
       "      <th>model2</th>\n",
       "      <th>model3</th>\n",
       "      <th>model4</th>\n",
       "    </tr>\n",
       "  </thead>\n",
       "  <tbody>\n",
       "    <tr>\n",
       "      <th>0</th>\n",
       "      <td>cat</td>\n",
       "      <td>cat</td>\n",
       "      <td>dog</td>\n",
       "      <td>cat</td>\n",
       "      <td>dog</td>\n",
       "    </tr>\n",
       "    <tr>\n",
       "      <th>1</th>\n",
       "      <td>dog</td>\n",
       "      <td>dog</td>\n",
       "      <td>cat</td>\n",
       "      <td>cat</td>\n",
       "      <td>dog</td>\n",
       "    </tr>\n",
       "    <tr>\n",
       "      <th>2</th>\n",
       "      <td>dog</td>\n",
       "      <td>cat</td>\n",
       "      <td>cat</td>\n",
       "      <td>cat</td>\n",
       "      <td>dog</td>\n",
       "    </tr>\n",
       "  </tbody>\n",
       "</table>\n",
       "</div>"
      ],
      "text/plain": [
       "  actual model1 model2 model3 model4\n",
       "0    cat    cat    dog    cat    dog\n",
       "1    dog    dog    cat    cat    dog\n",
       "2    dog    cat    cat    cat    dog"
      ]
     },
     "execution_count": 53,
     "metadata": {},
     "output_type": "execute_result"
    }
   ],
   "source": [
    "df.head(3)"
   ]
  },
  {
   "cell_type": "code",
   "execution_count": 60,
   "id": "1c2ae930",
   "metadata": {},
   "outputs": [
    {
     "name": "stdout",
     "output_type": "stream",
     "text": [
      "accuracy of model1:0.81\n",
      "precision of model1:0.89\n",
      "recall of model1:0.8\n",
      "\n",
      "\n",
      "accuracy of model2:0.63\n",
      "precision of model2:0.89\n",
      "recall of model2:0.49\n",
      "\n",
      "\n",
      "accuracy of model3:0.51\n",
      "precision of model3:0.66\n",
      "recall of model3:0.51\n",
      "\n",
      "\n",
      "accuracy of model4:0.74\n",
      "precision of model4:0.73\n",
      "recall of model4:0.96\n",
      "\n",
      "\n"
     ]
    }
   ],
   "source": [
    "# for positive='dog'\n",
    "\n",
    "for col in df.columns[1:]:\n",
    "    acc=accuracy_score(df.actual, df[col])\n",
    "    pre=precision_score(df.actual, df[col], pos_label='dog')\n",
    "    rec=recall_score(df.actual, df[col], pos_label='dog')\n",
    "    print(f'accuracy of {col}:{round(acc,2)}')\n",
    "    print(f'precision of {col}:{round(pre,2)}')\n",
    "    print(f'recall of {col}:{round(rec,2)}')\n",
    "    print('\\n')"
   ]
  },
  {
   "cell_type": "code",
   "execution_count": 61,
   "id": "c07e565e",
   "metadata": {},
   "outputs": [
    {
     "name": "stdout",
     "output_type": "stream",
     "text": [
      "accuracy of model1:0.81\n",
      "precision of model1:0.69\n",
      "recall of model1:0.82\n",
      "\n",
      "\n",
      "accuracy of model2:0.63\n",
      "precision of model2:0.48\n",
      "recall of model2:0.89\n",
      "\n",
      "\n",
      "accuracy of model3:0.51\n",
      "precision of model3:0.36\n",
      "recall of model3:0.51\n",
      "\n",
      "\n",
      "accuracy of model4:0.74\n",
      "precision of model4:0.81\n",
      "recall of model4:0.35\n",
      "\n",
      "\n"
     ]
    }
   ],
   "source": [
    "# for positive='cat'\n",
    "\n",
    "for col in df.columns[1:]:\n",
    "    acc=accuracy_score(df.actual, df[col])\n",
    "    pre=precision_score(df.actual, df[col], pos_label='cat')\n",
    "    rec=recall_score(df.actual, df[col], pos_label='cat')\n",
    "    print(f'accuracy of {col}:{round(acc,2)}')\n",
    "    print(f'precision of {col}:{round(pre,2)}')\n",
    "    print(f'recall of {col}:{round(rec,2)}')\n",
    "    print('\\n')"
   ]
  },
  {
   "cell_type": "code",
   "execution_count": 56,
   "id": "601af8af",
   "metadata": {},
   "outputs": [
    {
     "name": "stdout",
     "output_type": "stream",
     "text": [
      "              precision    recall  f1-score   support\n",
      "\n",
      "         cat       0.69      0.82      0.75      1746\n",
      "         dog       0.89      0.80      0.84      3254\n",
      "\n",
      "    accuracy                           0.81      5000\n",
      "   macro avg       0.79      0.81      0.80      5000\n",
      "weighted avg       0.82      0.81      0.81      5000\n",
      "\n"
     ]
    }
   ],
   "source": [
    "print(classification_report(df.actual, df.model1))"
   ]
  },
  {
   "cell_type": "code",
   "execution_count": 57,
   "id": "dce3834b",
   "metadata": {},
   "outputs": [
    {
     "name": "stdout",
     "output_type": "stream",
     "text": [
      "              precision    recall  f1-score   support\n",
      "\n",
      "         cat       0.48      0.89      0.63      1746\n",
      "         dog       0.89      0.49      0.63      3254\n",
      "\n",
      "    accuracy                           0.63      5000\n",
      "   macro avg       0.69      0.69      0.63      5000\n",
      "weighted avg       0.75      0.63      0.63      5000\n",
      "\n"
     ]
    }
   ],
   "source": [
    "print(classification_report(df.actual, df.model2))"
   ]
  },
  {
   "cell_type": "code",
   "execution_count": 58,
   "id": "bad35744",
   "metadata": {},
   "outputs": [
    {
     "name": "stdout",
     "output_type": "stream",
     "text": [
      "              precision    recall  f1-score   support\n",
      "\n",
      "         cat       0.36      0.51      0.42      1746\n",
      "         dog       0.66      0.51      0.57      3254\n",
      "\n",
      "    accuracy                           0.51      5000\n",
      "   macro avg       0.51      0.51      0.50      5000\n",
      "weighted avg       0.55      0.51      0.52      5000\n",
      "\n"
     ]
    }
   ],
   "source": [
    "print(classification_report(df.actual, df.model3))"
   ]
  },
  {
   "cell_type": "code",
   "execution_count": 59,
   "id": "1918e98d",
   "metadata": {},
   "outputs": [
    {
     "name": "stdout",
     "output_type": "stream",
     "text": [
      "              precision    recall  f1-score   support\n",
      "\n",
      "         cat       0.81      0.35      0.48      1746\n",
      "         dog       0.73      0.96      0.83      3254\n",
      "\n",
      "    accuracy                           0.74      5000\n",
      "   macro avg       0.77      0.65      0.66      5000\n",
      "weighted avg       0.76      0.74      0.71      5000\n",
      "\n"
     ]
    }
   ],
   "source": [
    "print(classification_report(df.actual, df.model4))"
   ]
  }
 ],
 "metadata": {
  "kernelspec": {
   "display_name": "Python 3 (ipykernel)",
   "language": "python",
   "name": "python3"
  },
  "language_info": {
   "codemirror_mode": {
    "name": "ipython",
    "version": 3
   },
   "file_extension": ".py",
   "mimetype": "text/x-python",
   "name": "python",
   "nbconvert_exporter": "python",
   "pygments_lexer": "ipython3",
   "version": "3.11.5"
  }
 },
 "nbformat": 4,
 "nbformat_minor": 5
}
